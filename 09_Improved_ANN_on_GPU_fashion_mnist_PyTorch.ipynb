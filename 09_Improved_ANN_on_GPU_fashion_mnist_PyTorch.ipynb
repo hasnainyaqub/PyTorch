{
  "cells": [
    {
      "cell_type": "markdown",
      "id": "903c6e7b",
      "metadata": {
        "id": "903c6e7b"
      },
      "source": [
        "# ANN with PyTorch - Fashion MNIST\n"
      ]
    },
    {
      "cell_type": "markdown",
      "id": "ea79310b",
      "metadata": {
        "id": "ea79310b"
      },
      "source": [
        "# Import libraries"
      ]
    },
    {
      "cell_type": "code",
      "execution_count": 46,
      "id": "dfbbcead",
      "metadata": {
        "id": "dfbbcead"
      },
      "outputs": [],
      "source": [
        "# import libraries\n",
        "import pandas as pd\n",
        "import numpy as np\n",
        "import matplotlib.pyplot as plt\n",
        "import torch\n",
        "import torch.nn as nn\n",
        "import torch.nn.functional as F\n",
        "import torch.optim as optim\n",
        "from sklearn.model_selection import train_test_split\n",
        "from torchinfo import summary"
      ]
    },
    {
      "cell_type": "code",
      "execution_count": 47,
      "id": "f11f4b55",
      "metadata": {
        "colab": {
          "base_uri": "https://localhost:8080/"
        },
        "id": "f11f4b55",
        "outputId": "8e1e8338-cbc0-4529-f1a5-f0949952d628"
      },
      "outputs": [
        {
          "output_type": "execute_result",
          "data": {
            "text/plain": [
              "<torch._C.Generator at 0x7d60fceabab0>"
            ]
          },
          "metadata": {},
          "execution_count": 47
        }
      ],
      "source": [
        "# Set random seed for reproducibility\n",
        "torch.manual_seed(42)"
      ]
    },
    {
      "cell_type": "code",
      "execution_count": 48,
      "id": "0uCUG9wkrURu",
      "metadata": {
        "colab": {
          "base_uri": "https://localhost:8080/"
        },
        "id": "0uCUG9wkrURu",
        "outputId": "ea9937df-3dcd-415e-a4e0-331caa09f5c6"
      },
      "outputs": [
        {
          "output_type": "stream",
          "name": "stdout",
          "text": [
            "Using device: cuda\n"
          ]
        }
      ],
      "source": [
        "# Check for GPU\n",
        "device = torch.device('cuda' if torch.cuda.is_available() else 'cpu')\n",
        "print(f\"Using device: {device}\")"
      ]
    },
    {
      "cell_type": "markdown",
      "id": "22e5ba72",
      "metadata": {
        "id": "22e5ba72"
      },
      "source": [
        "# import dataset"
      ]
    },
    {
      "cell_type": "code",
      "execution_count": 49,
      "id": "330674aa",
      "metadata": {
        "colab": {
          "base_uri": "https://localhost:8080/",
          "height": 256
        },
        "id": "330674aa",
        "outputId": "ea03c05e-1095-41cd-ab30-2a05c8cd5dab"
      },
      "outputs": [
        {
          "output_type": "execute_result",
          "data": {
            "text/plain": [
              "   label  pixel1  pixel2  pixel3  pixel4  pixel5  pixel6  pixel7  pixel8  \\\n",
              "0      2       0       0       0       0       0       0       0       0   \n",
              "1      9       0       0       0       0       0       0       0       0   \n",
              "2      6       0       0       0       0       0       0       0       5   \n",
              "3      0       0       0       0       1       2       0       0       0   \n",
              "4      3       0       0       0       0       0       0       0       0   \n",
              "\n",
              "   pixel9  ...  pixel775  pixel776  pixel777  pixel778  pixel779  pixel780  \\\n",
              "0       0  ...         0         0         0         0         0         0   \n",
              "1       0  ...         0         0         0         0         0         0   \n",
              "2       0  ...         0         0         0        30        43         0   \n",
              "3       0  ...         3         0         0         0         0         1   \n",
              "4       0  ...         0         0         0         0         0         0   \n",
              "\n",
              "   pixel781  pixel782  pixel783  pixel784  \n",
              "0         0         0         0         0  \n",
              "1         0         0         0         0  \n",
              "2         0         0         0         0  \n",
              "3         0         0         0         0  \n",
              "4         0         0         0         0  \n",
              "\n",
              "[5 rows x 785 columns]"
            ],
            "text/html": [
              "\n",
              "  <div id=\"df-b85ac7ec-a503-48af-91bf-4a55fdb57994\" class=\"colab-df-container\">\n",
              "    <div>\n",
              "<style scoped>\n",
              "    .dataframe tbody tr th:only-of-type {\n",
              "        vertical-align: middle;\n",
              "    }\n",
              "\n",
              "    .dataframe tbody tr th {\n",
              "        vertical-align: top;\n",
              "    }\n",
              "\n",
              "    .dataframe thead th {\n",
              "        text-align: right;\n",
              "    }\n",
              "</style>\n",
              "<table border=\"1\" class=\"dataframe\">\n",
              "  <thead>\n",
              "    <tr style=\"text-align: right;\">\n",
              "      <th></th>\n",
              "      <th>label</th>\n",
              "      <th>pixel1</th>\n",
              "      <th>pixel2</th>\n",
              "      <th>pixel3</th>\n",
              "      <th>pixel4</th>\n",
              "      <th>pixel5</th>\n",
              "      <th>pixel6</th>\n",
              "      <th>pixel7</th>\n",
              "      <th>pixel8</th>\n",
              "      <th>pixel9</th>\n",
              "      <th>...</th>\n",
              "      <th>pixel775</th>\n",
              "      <th>pixel776</th>\n",
              "      <th>pixel777</th>\n",
              "      <th>pixel778</th>\n",
              "      <th>pixel779</th>\n",
              "      <th>pixel780</th>\n",
              "      <th>pixel781</th>\n",
              "      <th>pixel782</th>\n",
              "      <th>pixel783</th>\n",
              "      <th>pixel784</th>\n",
              "    </tr>\n",
              "  </thead>\n",
              "  <tbody>\n",
              "    <tr>\n",
              "      <th>0</th>\n",
              "      <td>2</td>\n",
              "      <td>0</td>\n",
              "      <td>0</td>\n",
              "      <td>0</td>\n",
              "      <td>0</td>\n",
              "      <td>0</td>\n",
              "      <td>0</td>\n",
              "      <td>0</td>\n",
              "      <td>0</td>\n",
              "      <td>0</td>\n",
              "      <td>...</td>\n",
              "      <td>0</td>\n",
              "      <td>0</td>\n",
              "      <td>0</td>\n",
              "      <td>0</td>\n",
              "      <td>0</td>\n",
              "      <td>0</td>\n",
              "      <td>0</td>\n",
              "      <td>0</td>\n",
              "      <td>0</td>\n",
              "      <td>0</td>\n",
              "    </tr>\n",
              "    <tr>\n",
              "      <th>1</th>\n",
              "      <td>9</td>\n",
              "      <td>0</td>\n",
              "      <td>0</td>\n",
              "      <td>0</td>\n",
              "      <td>0</td>\n",
              "      <td>0</td>\n",
              "      <td>0</td>\n",
              "      <td>0</td>\n",
              "      <td>0</td>\n",
              "      <td>0</td>\n",
              "      <td>...</td>\n",
              "      <td>0</td>\n",
              "      <td>0</td>\n",
              "      <td>0</td>\n",
              "      <td>0</td>\n",
              "      <td>0</td>\n",
              "      <td>0</td>\n",
              "      <td>0</td>\n",
              "      <td>0</td>\n",
              "      <td>0</td>\n",
              "      <td>0</td>\n",
              "    </tr>\n",
              "    <tr>\n",
              "      <th>2</th>\n",
              "      <td>6</td>\n",
              "      <td>0</td>\n",
              "      <td>0</td>\n",
              "      <td>0</td>\n",
              "      <td>0</td>\n",
              "      <td>0</td>\n",
              "      <td>0</td>\n",
              "      <td>0</td>\n",
              "      <td>5</td>\n",
              "      <td>0</td>\n",
              "      <td>...</td>\n",
              "      <td>0</td>\n",
              "      <td>0</td>\n",
              "      <td>0</td>\n",
              "      <td>30</td>\n",
              "      <td>43</td>\n",
              "      <td>0</td>\n",
              "      <td>0</td>\n",
              "      <td>0</td>\n",
              "      <td>0</td>\n",
              "      <td>0</td>\n",
              "    </tr>\n",
              "    <tr>\n",
              "      <th>3</th>\n",
              "      <td>0</td>\n",
              "      <td>0</td>\n",
              "      <td>0</td>\n",
              "      <td>0</td>\n",
              "      <td>1</td>\n",
              "      <td>2</td>\n",
              "      <td>0</td>\n",
              "      <td>0</td>\n",
              "      <td>0</td>\n",
              "      <td>0</td>\n",
              "      <td>...</td>\n",
              "      <td>3</td>\n",
              "      <td>0</td>\n",
              "      <td>0</td>\n",
              "      <td>0</td>\n",
              "      <td>0</td>\n",
              "      <td>1</td>\n",
              "      <td>0</td>\n",
              "      <td>0</td>\n",
              "      <td>0</td>\n",
              "      <td>0</td>\n",
              "    </tr>\n",
              "    <tr>\n",
              "      <th>4</th>\n",
              "      <td>3</td>\n",
              "      <td>0</td>\n",
              "      <td>0</td>\n",
              "      <td>0</td>\n",
              "      <td>0</td>\n",
              "      <td>0</td>\n",
              "      <td>0</td>\n",
              "      <td>0</td>\n",
              "      <td>0</td>\n",
              "      <td>0</td>\n",
              "      <td>...</td>\n",
              "      <td>0</td>\n",
              "      <td>0</td>\n",
              "      <td>0</td>\n",
              "      <td>0</td>\n",
              "      <td>0</td>\n",
              "      <td>0</td>\n",
              "      <td>0</td>\n",
              "      <td>0</td>\n",
              "      <td>0</td>\n",
              "      <td>0</td>\n",
              "    </tr>\n",
              "  </tbody>\n",
              "</table>\n",
              "<p>5 rows × 785 columns</p>\n",
              "</div>\n",
              "    <div class=\"colab-df-buttons\">\n",
              "\n",
              "  <div class=\"colab-df-container\">\n",
              "    <button class=\"colab-df-convert\" onclick=\"convertToInteractive('df-b85ac7ec-a503-48af-91bf-4a55fdb57994')\"\n",
              "            title=\"Convert this dataframe to an interactive table.\"\n",
              "            style=\"display:none;\">\n",
              "\n",
              "  <svg xmlns=\"http://www.w3.org/2000/svg\" height=\"24px\" viewBox=\"0 -960 960 960\">\n",
              "    <path d=\"M120-120v-720h720v720H120Zm60-500h600v-160H180v160Zm220 220h160v-160H400v160Zm0 220h160v-160H400v160ZM180-400h160v-160H180v160Zm440 0h160v-160H620v160ZM180-180h160v-160H180v160Zm440 0h160v-160H620v160Z\"/>\n",
              "  </svg>\n",
              "    </button>\n",
              "\n",
              "  <style>\n",
              "    .colab-df-container {\n",
              "      display:flex;\n",
              "      gap: 12px;\n",
              "    }\n",
              "\n",
              "    .colab-df-convert {\n",
              "      background-color: #E8F0FE;\n",
              "      border: none;\n",
              "      border-radius: 50%;\n",
              "      cursor: pointer;\n",
              "      display: none;\n",
              "      fill: #1967D2;\n",
              "      height: 32px;\n",
              "      padding: 0 0 0 0;\n",
              "      width: 32px;\n",
              "    }\n",
              "\n",
              "    .colab-df-convert:hover {\n",
              "      background-color: #E2EBFA;\n",
              "      box-shadow: 0px 1px 2px rgba(60, 64, 67, 0.3), 0px 1px 3px 1px rgba(60, 64, 67, 0.15);\n",
              "      fill: #174EA6;\n",
              "    }\n",
              "\n",
              "    .colab-df-buttons div {\n",
              "      margin-bottom: 4px;\n",
              "    }\n",
              "\n",
              "    [theme=dark] .colab-df-convert {\n",
              "      background-color: #3B4455;\n",
              "      fill: #D2E3FC;\n",
              "    }\n",
              "\n",
              "    [theme=dark] .colab-df-convert:hover {\n",
              "      background-color: #434B5C;\n",
              "      box-shadow: 0px 1px 3px 1px rgba(0, 0, 0, 0.15);\n",
              "      filter: drop-shadow(0px 1px 2px rgba(0, 0, 0, 0.3));\n",
              "      fill: #FFFFFF;\n",
              "    }\n",
              "  </style>\n",
              "\n",
              "    <script>\n",
              "      const buttonEl =\n",
              "        document.querySelector('#df-b85ac7ec-a503-48af-91bf-4a55fdb57994 button.colab-df-convert');\n",
              "      buttonEl.style.display =\n",
              "        google.colab.kernel.accessAllowed ? 'block' : 'none';\n",
              "\n",
              "      async function convertToInteractive(key) {\n",
              "        const element = document.querySelector('#df-b85ac7ec-a503-48af-91bf-4a55fdb57994');\n",
              "        const dataTable =\n",
              "          await google.colab.kernel.invokeFunction('convertToInteractive',\n",
              "                                                    [key], {});\n",
              "        if (!dataTable) return;\n",
              "\n",
              "        const docLinkHtml = 'Like what you see? Visit the ' +\n",
              "          '<a target=\"_blank\" href=https://colab.research.google.com/notebooks/data_table.ipynb>data table notebook</a>'\n",
              "          + ' to learn more about interactive tables.';\n",
              "        element.innerHTML = '';\n",
              "        dataTable['output_type'] = 'display_data';\n",
              "        await google.colab.output.renderOutput(dataTable, element);\n",
              "        const docLink = document.createElement('div');\n",
              "        docLink.innerHTML = docLinkHtml;\n",
              "        element.appendChild(docLink);\n",
              "      }\n",
              "    </script>\n",
              "  </div>\n",
              "\n",
              "\n",
              "    <div id=\"df-dcb29ae0-6011-4c86-8bf7-b01dd045f2e4\">\n",
              "      <button class=\"colab-df-quickchart\" onclick=\"quickchart('df-dcb29ae0-6011-4c86-8bf7-b01dd045f2e4')\"\n",
              "                title=\"Suggest charts\"\n",
              "                style=\"display:none;\">\n",
              "\n",
              "<svg xmlns=\"http://www.w3.org/2000/svg\" height=\"24px\"viewBox=\"0 0 24 24\"\n",
              "     width=\"24px\">\n",
              "    <g>\n",
              "        <path d=\"M19 3H5c-1.1 0-2 .9-2 2v14c0 1.1.9 2 2 2h14c1.1 0 2-.9 2-2V5c0-1.1-.9-2-2-2zM9 17H7v-7h2v7zm4 0h-2V7h2v10zm4 0h-2v-4h2v4z\"/>\n",
              "    </g>\n",
              "</svg>\n",
              "      </button>\n",
              "\n",
              "<style>\n",
              "  .colab-df-quickchart {\n",
              "      --bg-color: #E8F0FE;\n",
              "      --fill-color: #1967D2;\n",
              "      --hover-bg-color: #E2EBFA;\n",
              "      --hover-fill-color: #174EA6;\n",
              "      --disabled-fill-color: #AAA;\n",
              "      --disabled-bg-color: #DDD;\n",
              "  }\n",
              "\n",
              "  [theme=dark] .colab-df-quickchart {\n",
              "      --bg-color: #3B4455;\n",
              "      --fill-color: #D2E3FC;\n",
              "      --hover-bg-color: #434B5C;\n",
              "      --hover-fill-color: #FFFFFF;\n",
              "      --disabled-bg-color: #3B4455;\n",
              "      --disabled-fill-color: #666;\n",
              "  }\n",
              "\n",
              "  .colab-df-quickchart {\n",
              "    background-color: var(--bg-color);\n",
              "    border: none;\n",
              "    border-radius: 50%;\n",
              "    cursor: pointer;\n",
              "    display: none;\n",
              "    fill: var(--fill-color);\n",
              "    height: 32px;\n",
              "    padding: 0;\n",
              "    width: 32px;\n",
              "  }\n",
              "\n",
              "  .colab-df-quickchart:hover {\n",
              "    background-color: var(--hover-bg-color);\n",
              "    box-shadow: 0 1px 2px rgba(60, 64, 67, 0.3), 0 1px 3px 1px rgba(60, 64, 67, 0.15);\n",
              "    fill: var(--button-hover-fill-color);\n",
              "  }\n",
              "\n",
              "  .colab-df-quickchart-complete:disabled,\n",
              "  .colab-df-quickchart-complete:disabled:hover {\n",
              "    background-color: var(--disabled-bg-color);\n",
              "    fill: var(--disabled-fill-color);\n",
              "    box-shadow: none;\n",
              "  }\n",
              "\n",
              "  .colab-df-spinner {\n",
              "    border: 2px solid var(--fill-color);\n",
              "    border-color: transparent;\n",
              "    border-bottom-color: var(--fill-color);\n",
              "    animation:\n",
              "      spin 1s steps(1) infinite;\n",
              "  }\n",
              "\n",
              "  @keyframes spin {\n",
              "    0% {\n",
              "      border-color: transparent;\n",
              "      border-bottom-color: var(--fill-color);\n",
              "      border-left-color: var(--fill-color);\n",
              "    }\n",
              "    20% {\n",
              "      border-color: transparent;\n",
              "      border-left-color: var(--fill-color);\n",
              "      border-top-color: var(--fill-color);\n",
              "    }\n",
              "    30% {\n",
              "      border-color: transparent;\n",
              "      border-left-color: var(--fill-color);\n",
              "      border-top-color: var(--fill-color);\n",
              "      border-right-color: var(--fill-color);\n",
              "    }\n",
              "    40% {\n",
              "      border-color: transparent;\n",
              "      border-right-color: var(--fill-color);\n",
              "      border-top-color: var(--fill-color);\n",
              "    }\n",
              "    60% {\n",
              "      border-color: transparent;\n",
              "      border-right-color: var(--fill-color);\n",
              "    }\n",
              "    80% {\n",
              "      border-color: transparent;\n",
              "      border-right-color: var(--fill-color);\n",
              "      border-bottom-color: var(--fill-color);\n",
              "    }\n",
              "    90% {\n",
              "      border-color: transparent;\n",
              "      border-bottom-color: var(--fill-color);\n",
              "    }\n",
              "  }\n",
              "</style>\n",
              "\n",
              "      <script>\n",
              "        async function quickchart(key) {\n",
              "          const quickchartButtonEl =\n",
              "            document.querySelector('#' + key + ' button');\n",
              "          quickchartButtonEl.disabled = true;  // To prevent multiple clicks.\n",
              "          quickchartButtonEl.classList.add('colab-df-spinner');\n",
              "          try {\n",
              "            const charts = await google.colab.kernel.invokeFunction(\n",
              "                'suggestCharts', [key], {});\n",
              "          } catch (error) {\n",
              "            console.error('Error during call to suggestCharts:', error);\n",
              "          }\n",
              "          quickchartButtonEl.classList.remove('colab-df-spinner');\n",
              "          quickchartButtonEl.classList.add('colab-df-quickchart-complete');\n",
              "        }\n",
              "        (() => {\n",
              "          let quickchartButtonEl =\n",
              "            document.querySelector('#df-dcb29ae0-6011-4c86-8bf7-b01dd045f2e4 button');\n",
              "          quickchartButtonEl.style.display =\n",
              "            google.colab.kernel.accessAllowed ? 'block' : 'none';\n",
              "        })();\n",
              "      </script>\n",
              "    </div>\n",
              "\n",
              "    </div>\n",
              "  </div>\n"
            ],
            "application/vnd.google.colaboratory.intrinsic+json": {
              "type": "dataframe",
              "variable_name": "df"
            }
          },
          "metadata": {},
          "execution_count": 49
        }
      ],
      "source": [
        "# import dataset\n",
        "df = pd.read_csv('/content/fashion-mnist_train.csv')\n",
        "df.head()"
      ]
    },
    {
      "cell_type": "code",
      "execution_count": 50,
      "id": "6a87c5c7",
      "metadata": {
        "colab": {
          "base_uri": "https://localhost:8080/",
          "height": 438
        },
        "id": "6a87c5c7",
        "outputId": "ba6607f5-edac-4af5-b44d-6a603094b30f"
      },
      "outputs": [
        {
          "output_type": "display_data",
          "data": {
            "text/plain": [
              "<Figure size 1500x1000 with 10 Axes>"
            ],
            "image/png": "[encoded data removed]"
          },
          "metadata": {}
        }
      ],
      "source": [
        "# let's plot first 10 images with 5x5 grid\n",
        "fig, ax = plt.subplots(2, 5, figsize=(15, 10))\n",
        "for i in range(10):\n",
        "    ax[i//5, i%5].imshow(df.iloc[i, 1:].values.reshape(28, 28), cmap='gray')\n",
        "    ax[i//5, i%5].axis('off')\n",
        "    ax[i//5, i%5].set_title(df.iloc[i, 0])\n",
        "\n",
        "plt.tight_layout()\n",
        "plt.show()"
      ]
    },
    {
      "cell_type": "markdown",
      "id": "9b0dc760",
      "metadata": {
        "id": "9b0dc760"
      },
      "source": [
        "## Split the data"
      ]
    },
    {
      "cell_type": "code",
      "execution_count": 51,
      "id": "899ec3cf",
      "metadata": {
        "colab": {
          "base_uri": "https://localhost:8080/"
        },
        "id": "899ec3cf",
        "outputId": "cf0b91b2-37c8-4f00-8727-6ff2db483903"
      },
      "outputs": [
        {
          "output_type": "execute_result",
          "data": {
            "text/plain": [
              "((60000, 784), (60000,))"
            ]
          },
          "metadata": {},
          "execution_count": 51
        }
      ],
      "source": [
        "# split the data into features and labels\n",
        "X = df.iloc[:, 1:].values\n",
        "y = df.iloc[:, 0].values\n",
        "X.shape, y.shape"
      ]
    },
    {
      "cell_type": "code",
      "execution_count": 52,
      "id": "1e535d6a",
      "metadata": {
        "colab": {
          "base_uri": "https://localhost:8080/"
        },
        "id": "1e535d6a",
        "outputId": "4eb21ab6-39ee-43bb-9dd3-1e35ca29ff51"
      },
      "outputs": [
        {
          "output_type": "execute_result",
          "data": {
            "text/plain": [
              "((48000, 784), (12000, 784), (48000,), (12000,))"
            ]
          },
          "metadata": {},
          "execution_count": 52
        }
      ],
      "source": [
        "# split the data into train and test sets\n",
        "X_train, X_test, y_train, y_test = train_test_split(X, y, test_size=0.2, random_state=42)\n",
        "X_train.shape, X_test.shape, y_train.shape, y_test.shape"
      ]
    },
    {
      "cell_type": "markdown",
      "id": "06ec46b4",
      "metadata": {
        "id": "06ec46b4"
      },
      "source": [
        "## Scale the data"
      ]
    },
    {
      "cell_type": "code",
      "execution_count": 53,
      "id": "b1ab2d32",
      "metadata": {
        "id": "b1ab2d32"
      },
      "outputs": [],
      "source": [
        "# scaling the data\n",
        "X_train = X_train / 255.0\n",
        "X_test = X_test / 255.0"
      ]
    },
    {
      "cell_type": "markdown",
      "id": "662a2054",
      "metadata": {
        "id": "662a2054"
      },
      "source": [
        "# create dataloader"
      ]
    },
    {
      "cell_type": "code",
      "execution_count": 54,
      "id": "bb820963",
      "metadata": {
        "id": "bb820963"
      },
      "outputs": [],
      "source": [
        "# create CustomDataset class\n",
        "class CustomDataset(torch.utils.data.Dataset):\n",
        "    def __init__(self, X, y):\n",
        "        self.X = torch.tensor(X, dtype=torch.float32)\n",
        "        self.y = torch.tensor(y, dtype=torch.long)\n",
        "\n",
        "    def __len__(self):\n",
        "        return len(self.X)\n",
        "\n",
        "    def __getitem__(self, index):\n",
        "        x = self.X[index]\n",
        "        y = self.y[index]\n",
        "        return x, y"
      ]
    },
    {
      "cell_type": "code",
      "execution_count": 55,
      "id": "f5e6794c",
      "metadata": {
        "id": "f5e6794c"
      },
      "outputs": [],
      "source": [
        "# create dataloader\n",
        "train_dataset = CustomDataset(X_train, y_train)\n",
        "test_dataset = CustomDataset(X_test, y_test)\n",
        "train_loader = torch.utils.data.DataLoader(train_dataset, batch_size=128, shuffle=True, pin_memory=True)\n",
        "test_loader = torch.utils.data.DataLoader(test_dataset, batch_size=128, shuffle=False, pin_memory=True)"
      ]
    },
    {
      "cell_type": "markdown",
      "id": "ce1803cd",
      "metadata": {
        "id": "ce1803cd"
      },
      "source": [
        "# Model building"
      ]
    },
    {
      "cell_type": "code",
      "execution_count": 56,
      "id": "ca991e68",
      "metadata": {
        "id": "ca991e68"
      },
      "outputs": [],
      "source": [
        "# create model\n",
        "class MyNN(nn.Module):\n",
        "\n",
        "    def __init__(self, num_features):\n",
        "        super().__init__()\n",
        "        self.model1 = nn.Sequential(\n",
        "            nn.Linear(num_features, 128),\n",
        "            nn.BatchNorm1d(128),\n",
        "            nn.ReLU(),\n",
        "            nn.Dropout(p=0.3),\n",
        "            nn.Linear(128, 64),\n",
        "            nn.BatchNorm1d(64),\n",
        "            nn.ReLU(),\n",
        "            nn.Dropout(p=0.3),\n",
        "            nn.Linear(64, 10),\n",
        "        )\n",
        "\n",
        "    def forward(self, x):\n",
        "        x = self.model1(x)\n",
        "        return x\n"
      ]
    },
    {
      "cell_type": "code",
      "execution_count": 57,
      "id": "a9e4ca4c",
      "metadata": {
        "colab": {
          "base_uri": "https://localhost:8080/"
        },
        "id": "a9e4ca4c",
        "outputId": "b6bbf0cb-01e8-4df6-b8fd-424fdccfef4e"
      },
      "outputs": [
        {
          "output_type": "execute_result",
          "data": {
            "text/plain": [
              "==========================================================================================\n",
              "Layer (type:depth-idx)                   Output Shape              Param #\n",
              "==========================================================================================\n",
              "MyNN                                     [1, 10]                   --\n",
              "├─Sequential: 1-1                        [1, 10]                   --\n",
              "│    └─Linear: 2-1                       [1, 128]                  100,480\n",
              "│    └─BatchNorm1d: 2-2                  [1, 128]                  256\n",
              "│    └─ReLU: 2-3                         [1, 128]                  --\n",
              "│    └─Dropout: 2-4                      [1, 128]                  --\n",
              "│    └─Linear: 2-5                       [1, 64]                   8,256\n",
              "│    └─BatchNorm1d: 2-6                  [1, 64]                   128\n",
              "│    └─ReLU: 2-7                         [1, 64]                   --\n",
              "│    └─Dropout: 2-8                      [1, 64]                   --\n",
              "│    └─Linear: 2-9                       [1, 10]                   650\n",
              "==========================================================================================\n",
              "Total params: 109,770\n",
              "Trainable params: 109,770\n",
              "Non-trainable params: 0\n",
              "Total mult-adds (Units.MEGABYTES): 0.11\n",
              "==========================================================================================\n",
              "Input size (MB): 0.00\n",
              "Forward/backward pass size (MB): 0.00\n",
              "Params size (MB): 0.44\n",
              "Estimated Total Size (MB): 0.45\n",
              "=========================================================================================="
            ]
          },
          "metadata": {},
          "execution_count": 57
        }
      ],
      "source": [
        "# instatiate the model\n",
        "model = MyNN(X_train.shape[1])\n",
        "model.to(device)\n",
        "# print model summary\n",
        "summary(model, input_size=(1, X_train.shape[1]))"
      ]
    },
    {
      "cell_type": "code",
      "execution_count": 58,
      "id": "b0b4e24c",
      "metadata": {
        "id": "b0b4e24c"
      },
      "outputs": [],
      "source": [
        "# set learning rate & and epochs\n",
        "lr = 0.1\n",
        "epochs = 100"
      ]
    },
    {
      "cell_type": "code",
      "execution_count": 59,
      "id": "de5fc0a5",
      "metadata": {
        "id": "de5fc0a5"
      },
      "outputs": [],
      "source": [
        "# define loss and optimizer\n",
        "criterion = nn.CrossEntropyLoss()\n",
        "optimizer = optim.SGD(model.parameters(), lr=lr, weight_decay=1e-4)"
      ]
    },
    {
      "cell_type": "code",
      "execution_count": 60,
      "id": "bb0aaf12",
      "metadata": {
        "colab": {
          "base_uri": "https://localhost:8080/"
        },
        "id": "bb0aaf12",
        "outputId": "0cd395dd-b4ba-4ad0-df5d-b471f76f1faa"
      },
      "outputs": [
        {
          "output_type": "stream",
          "name": "stdout",
          "text": [
            "Epoch 1 loss: 0.36537641286849976\n",
            "Epoch 2 loss: 0.4512835741043091\n",
            "Epoch 3 loss: 0.3569333255290985\n",
            "Epoch 4 loss: 0.2683650851249695\n",
            "Epoch 5 loss: 0.37122809886932373\n",
            "Epoch 6 loss: 0.36522728204727173\n",
            "Epoch 7 loss: 0.33772632479667664\n",
            "Epoch 8 loss: 0.43311968445777893\n",
            "Epoch 9 loss: 0.30320483446121216\n",
            "Epoch 10 loss: 0.30185532569885254\n",
            "Epoch 11 loss: 0.3159158229827881\n",
            "Epoch 12 loss: 0.25452277064323425\n",
            "Epoch 13 loss: 0.3756435513496399\n",
            "Epoch 14 loss: 0.34010618925094604\n",
            "Epoch 15 loss: 0.34248965978622437\n",
            "Epoch 16 loss: 0.2732696831226349\n",
            "Epoch 17 loss: 0.3028405010700226\n",
            "Epoch 18 loss: 0.2854672968387604\n",
            "Epoch 19 loss: 0.16864433884620667\n",
            "Epoch 20 loss: 0.4177500009536743\n",
            "Epoch 21 loss: 0.28852900862693787\n",
            "Epoch 22 loss: 0.31305909156799316\n",
            "Epoch 23 loss: 0.30077797174453735\n",
            "Epoch 24 loss: 0.26577964425086975\n",
            "Epoch 25 loss: 0.20191076397895813\n",
            "Epoch 26 loss: 0.26998451352119446\n",
            "Epoch 27 loss: 0.2766422927379608\n",
            "Epoch 28 loss: 0.22937150299549103\n",
            "Epoch 29 loss: 0.3104267716407776\n",
            "Epoch 30 loss: 0.27027416229248047\n",
            "Epoch 31 loss: 0.3679625391960144\n",
            "Epoch 32 loss: 0.27491748332977295\n",
            "Epoch 33 loss: 0.1985669583082199\n",
            "Epoch 34 loss: 0.4677012264728546\n",
            "Epoch 35 loss: 0.22118565440177917\n",
            "Epoch 36 loss: 0.21370625495910645\n",
            "Epoch 37 loss: 0.2280334085226059\n",
            "Epoch 38 loss: 0.2359989732503891\n",
            "Epoch 39 loss: 0.3198287785053253\n",
            "Epoch 40 loss: 0.28201571106910706\n",
            "Epoch 41 loss: 0.2293626070022583\n",
            "Epoch 42 loss: 0.28446048498153687\n",
            "Epoch 43 loss: 0.24531540274620056\n",
            "Epoch 44 loss: 0.1817091703414917\n",
            "Epoch 45 loss: 0.2653706967830658\n",
            "Epoch 46 loss: 0.19108463823795319\n",
            "Epoch 47 loss: 0.22436712682247162\n",
            "Epoch 48 loss: 0.2645908296108246\n",
            "Epoch 49 loss: 0.2504534125328064\n",
            "Epoch 50 loss: 0.16260752081871033\n",
            "Epoch 51 loss: 0.2695886194705963\n",
            "Epoch 52 loss: 0.2002786099910736\n",
            "Epoch 53 loss: 0.1596541553735733\n",
            "Epoch 54 loss: 0.1719416081905365\n",
            "Epoch 55 loss: 0.20251566171646118\n",
            "Epoch 56 loss: 0.21043840050697327\n",
            "Epoch 57 loss: 0.155216246843338\n",
            "Epoch 58 loss: 0.2742505967617035\n",
            "Epoch 59 loss: 0.16963836550712585\n",
            "Epoch 60 loss: 0.18382282555103302\n",
            "Epoch 61 loss: 0.1527942270040512\n",
            "Epoch 62 loss: 0.197615385055542\n",
            "Epoch 63 loss: 0.2537122666835785\n",
            "Epoch 64 loss: 0.1828562170267105\n",
            "Epoch 65 loss: 0.22241589426994324\n",
            "Epoch 66 loss: 0.23598118126392365\n",
            "Epoch 67 loss: 0.1532219648361206\n",
            "Epoch 68 loss: 0.20549310743808746\n",
            "Epoch 69 loss: 0.23296958208084106\n",
            "Epoch 70 loss: 0.15631690621376038\n",
            "Epoch 71 loss: 0.17576831579208374\n",
            "Epoch 72 loss: 0.169933021068573\n",
            "Epoch 73 loss: 0.1950370818376541\n",
            "Epoch 74 loss: 0.20512351393699646\n",
            "Epoch 75 loss: 0.22509515285491943\n",
            "Epoch 76 loss: 0.21442972123622894\n",
            "Epoch 77 loss: 0.1798742711544037\n",
            "Epoch 78 loss: 0.15891864895820618\n",
            "Epoch 79 loss: 0.22347670793533325\n",
            "Epoch 80 loss: 0.21500137448310852\n",
            "Epoch 81 loss: 0.21650734543800354\n",
            "Epoch 82 loss: 0.19193677604198456\n",
            "Epoch 83 loss: 0.1669873148202896\n",
            "Epoch 84 loss: 0.19884894788265228\n",
            "Epoch 85 loss: 0.22565320134162903\n",
            "Epoch 86 loss: 0.10793930292129517\n",
            "Epoch 87 loss: 0.19094732403755188\n",
            "Epoch 88 loss: 0.22330805659294128\n",
            "Epoch 89 loss: 0.1928664892911911\n",
            "Epoch 90 loss: 0.13958682119846344\n",
            "Epoch 91 loss: 0.13222305476665497\n",
            "Epoch 92 loss: 0.2283373326063156\n",
            "Epoch 93 loss: 0.134666308760643\n",
            "Epoch 94 loss: 0.22532576322555542\n",
            "Epoch 95 loss: 0.17481409013271332\n",
            "Epoch 96 loss: 0.19339899718761444\n",
            "Epoch 97 loss: 0.17690154910087585\n",
            "Epoch 98 loss: 0.17114771902561188\n",
            "Epoch 99 loss: 0.14095643162727356\n",
            "Epoch 100 loss: 0.11305118352174759\n"
          ]
        }
      ],
      "source": [
        "# training loop\n",
        "for epoch in range(epochs):\n",
        "\n",
        "    for batch_features, batch_labels in train_loader:\n",
        "        # move data to gpu\n",
        "        batch_features = batch_features.to(device)\n",
        "        batch_labels = batch_labels.to(device)\n",
        "\n",
        "        # forward pass\n",
        "        outputs = model(batch_features)\n",
        "\n",
        "        # calculate loss\n",
        "        loss = criterion(outputs, batch_labels)\n",
        "\n",
        "        # zero gradients\n",
        "        optimizer.zero_grad()\n",
        "\n",
        "        # backward pass\n",
        "        loss.backward()\n",
        "\n",
        "        # update weights\n",
        "        optimizer.step()\n",
        "\n",
        "    print(f\"Epoch {epoch+1} loss: {loss.item()}\")"
      ]
    },
    {
      "cell_type": "markdown",
      "id": "80baf258",
      "metadata": {
        "id": "80baf258"
      },
      "source": [
        "# MODEL EVALUATION"
      ]
    },
    {
      "cell_type": "code",
      "execution_count": 61,
      "id": "266c0e3c",
      "metadata": {
        "colab": {
          "base_uri": "https://localhost:8080/"
        },
        "id": "266c0e3c",
        "outputId": "b791eb70-b89e-446f-9f6d-230a9f3b678a"
      },
      "outputs": [
        {
          "output_type": "execute_result",
          "data": {
            "text/plain": [
              "MyNN(\n",
              "  (model1): Sequential(\n",
              "    (0): Linear(in_features=784, out_features=128, bias=True)\n",
              "    (1): BatchNorm1d(128, eps=1e-05, momentum=0.1, affine=True, track_running_stats=True)\n",
              "    (2): ReLU()\n",
              "    (3): Dropout(p=0.3, inplace=False)\n",
              "    (4): Linear(in_features=128, out_features=64, bias=True)\n",
              "    (5): BatchNorm1d(64, eps=1e-05, momentum=0.1, affine=True, track_running_stats=True)\n",
              "    (6): ReLU()\n",
              "    (7): Dropout(p=0.3, inplace=False)\n",
              "    (8): Linear(in_features=64, out_features=10, bias=True)\n",
              "  )\n",
              ")"
            ]
          },
          "metadata": {},
          "execution_count": 61
        }
      ],
      "source": [
        "# set model to evaluation mode\n",
        "model.eval()"
      ]
    },
    {
      "cell_type": "code",
      "execution_count": 62,
      "id": "cb1d75a4",
      "metadata": {
        "colab": {
          "base_uri": "https://localhost:8080/"
        },
        "id": "cb1d75a4",
        "outputId": "e2792157-ffcf-4915-b237-6a003dcf57d3"
      },
      "outputs": [
        {
          "output_type": "stream",
          "name": "stdout",
          "text": [
            "Accuracy of the model on the test images: 88.59166666666667%\n"
          ]
        }
      ],
      "source": [
        "# evaluate model\n",
        "with torch.no_grad():\n",
        "    correct = 0\n",
        "    total = 0\n",
        "    for images, labels in test_loader:\n",
        "        images = images.to(device)\n",
        "        labels = labels.to(device)\n",
        "        outputs = model(images)\n",
        "        _, predicted = torch.max(outputs.data, 1)\n",
        "        total += labels.size(0)\n",
        "        correct += (predicted == labels).sum().item()\n",
        "\n",
        "    print(f\"Accuracy of the model on the test images: {100 * correct / total}%\")"
      ]
    },
    {
      "cell_type": "code",
      "source": [
        "# evaluate model with train data\n",
        "with torch.no_grad():\n",
        "    correct = 0\n",
        "    total = 0\n",
        "    for images, labels in train_loader:\n",
        "        images = images.to(device)\n",
        "        labels = labels.to(device)\n",
        "        outputs = model(images)\n",
        "        _, predicted = torch.max(outputs.data, 1)\n",
        "        total += labels.size(0)\n",
        "        correct += (predicted == labels).sum().item()\n",
        "\n",
        "    print(f\"Accuracy of the model on the test images: {100 * correct / total}%\")"
      ],
      "metadata": {
        "colab": {
          "base_uri": "https://localhost:8080/"
        },
        "id": "4LP6UDNPMv8l",
        "outputId": "fbbab215-450d-4149-9b9b-bc34cbe4b8e5"
      },
      "id": "4LP6UDNPMv8l",
      "execution_count": 63,
      "outputs": [
        {
          "output_type": "stream",
          "name": "stdout",
          "text": [
            "Accuracy of the model on the test images: 95.92083333333333%\n"
          ]
        }
      ]
    }
  ],
  "metadata": {
    "accelerator": "GPU",
    "colab": {
      "gpuType": "T4",
      "provenance": []
    },
    "kernelspec": {
      "display_name": "tf_env",
      "language": "python",
      "name": "python3"
    },
    "language_info": {
      "codemirror_mode": {
        "name": "ipython",
        "version": 3
      },
      "file_extension": ".py",
      "mimetype": "text/x-python",
      "name": "python",
      "nbconvert_exporter": "python",
      "pygments_lexer": "ipython3",
      "version": "3.10.18"
    }
  },
  "nbformat": 4,
  "nbformat_minor": 5
}