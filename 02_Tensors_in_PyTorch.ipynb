{
 "cells": [
  {
   "cell_type": "code",
   "execution_count": 3,
   "metadata": {
    "colab": {
     "base_uri": "https://localhost:8080/"
    },
    "id": "9ON9TVl7FcqX",
    "outputId": "4509d91a-cb63-4c09-f0b4-b44ed0ad63f7"
   },
   "outputs": [
    {
     "name": "stdout",
     "output_type": "stream",
     "text": [
      "2.6.0+cu124\n",
      "False\n"
     ]
    }
   ],
   "source": [
    "import torch\n",
    "print(torch.__version__)\n",
    "print(torch.cuda.is_available())"
   ]
  },
  {
   "cell_type": "code",
   "execution_count": 5,
   "metadata": {
    "colab": {
     "base_uri": "https://localhost:8080/"
    },
    "id": "cR4puuJXKDcp",
    "outputId": "e357f93b-85ff-41db-8508-ea2b24c59357"
   },
   "outputs": [
    {
     "name": "stdout",
     "output_type": "stream",
     "text": [
      "cpu\n"
     ]
    }
   ],
   "source": [
    "if torch.cuda.is_available():\n",
    "    device = torch.device(\"GPU\")\n",
    "else:\n",
    "    device = torch.device(\"cpu\")\n",
    "print(device)"
   ]
  },
  {
   "cell_type": "markdown",
   "metadata": {
    "id": "JhKr4uQWKrzx"
   },
   "source": [
    "# Creating Tensor"
   ]
  },
  {
   "cell_type": "code",
   "execution_count": 9,
   "metadata": {
    "colab": {
     "base_uri": "https://localhost:8080/"
    },
    "id": "FACNwtn9KF7Q",
    "outputId": "ced968c9-d0cb-4363-abf3-e9c2d0795c74"
   },
   "outputs": [
    {
     "data": {
      "text/plain": [
       "tensor([[4.8144e+17, 4.5399e-41],\n",
       "        [4.8144e+17, 4.5399e-41]])"
      ]
     },
     "execution_count": 9,
     "metadata": {},
     "output_type": "execute_result"
    }
   ],
   "source": [
    "# using empty\n",
    "a = torch.empty(2,2)\n",
    "a"
   ]
  },
  {
   "cell_type": "code",
   "execution_count": 11,
   "metadata": {
    "colab": {
     "base_uri": "https://localhost:8080/"
    },
    "id": "0Va8o90YLgMK",
    "outputId": "44f63048-a217-4188-951a-12127f459a2b"
   },
   "outputs": [
    {
     "data": {
      "text/plain": [
       "torch.Tensor"
      ]
     },
     "execution_count": 11,
     "metadata": {},
     "output_type": "execute_result"
    }
   ],
   "source": [
    "# check type\n",
    "type(a)"
   ]
  },
  {
   "cell_type": "code",
   "execution_count": 12,
   "metadata": {
    "colab": {
     "base_uri": "https://localhost:8080/"
    },
    "id": "6LpsjGSXLts6",
    "outputId": "c089eab8-598d-4a53-f9d5-b293b368105c"
   },
   "outputs": [
    {
     "data": {
      "text/plain": [
       "tensor([[0., 0., 0.],\n",
       "        [0., 0., 0.]])"
      ]
     },
     "execution_count": 12,
     "metadata": {},
     "output_type": "execute_result"
    }
   ],
   "source": [
    "# using zeros\n",
    "torch.zeros(2,3)"
   ]
  },
  {
   "cell_type": "code",
   "execution_count": 13,
   "metadata": {
    "colab": {
     "base_uri": "https://localhost:8080/"
    },
    "id": "eTMiufQILypB",
    "outputId": "8f8f2dd2-998d-4f9b-d02c-cc09d6417371"
   },
   "outputs": [
    {
     "data": {
      "text/plain": [
       "tensor([[1., 1., 1., 1.],\n",
       "        [1., 1., 1., 1.]])"
      ]
     },
     "execution_count": 13,
     "metadata": {},
     "output_type": "execute_result"
    }
   ],
   "source": [
    "# using ones\n",
    "torch.ones(2,4)"
   ]
  },
  {
   "cell_type": "code",
   "execution_count": 16,
   "metadata": {
    "colab": {
     "base_uri": "https://localhost:8080/"
    },
    "id": "kbrM5bcEL51n",
    "outputId": "478b6aff-84af-4a4c-9093-fed9a7f4f06d"
   },
   "outputs": [
    {
     "data": {
      "text/plain": [
       "tensor([[0.0886, 0.5391, 0.1133],\n",
       "        [0.0390, 0.8530, 0.0826]])"
      ]
     },
     "execution_count": 16,
     "metadata": {},
     "output_type": "execute_result"
    }
   ],
   "source": [
    "# using rand\n",
    "torch.rand(2,3)"
   ]
  },
  {
   "cell_type": "code",
   "execution_count": 21,
   "metadata": {
    "colab": {
     "base_uri": "https://localhost:8080/"
    },
    "id": "-mCdyTBaL_Ly",
    "outputId": "a0b798bf-ff09-4103-8e0a-bfb044d1c3aa"
   },
   "outputs": [
    {
     "data": {
      "text/plain": [
       "tensor([[0.1117, 0.8158, 0.2626],\n",
       "        [0.4839, 0.6765, 0.7539]])"
      ]
     },
     "execution_count": 21,
     "metadata": {},
     "output_type": "execute_result"
    }
   ],
   "source": [
    "# use of seed\n",
    "torch.manual_seed(100)\n",
    "torch.rand(2,3)"
   ]
  },
  {
   "cell_type": "code",
   "execution_count": 23,
   "metadata": {
    "colab": {
     "base_uri": "https://localhost:8080/"
    },
    "id": "JDpIfWV-MVg3",
    "outputId": "04a45d55-667d-4ccd-9aeb-0868a52ef7ed"
   },
   "outputs": [
    {
     "data": {
      "text/plain": [
       "tensor([[1, 2, 3],\n",
       "        [4, 5, 6]])"
      ]
     },
     "execution_count": 23,
     "metadata": {},
     "output_type": "execute_result"
    }
   ],
   "source": [
    "# using tensor\n",
    "torch.tensor([[1,2,3],[4,5,6]])"
   ]
  },
  {
   "cell_type": "code",
   "execution_count": 40,
   "metadata": {
    "colab": {
     "base_uri": "https://localhost:8080/"
    },
    "id": "nBhad_9NMbBb",
    "outputId": "3df26b2a-46a9-4748-cf3e-c49d65daf4da"
   },
   "outputs": [
    {
     "name": "stdout",
     "output_type": "stream",
     "text": [
      "using arange ->tensor([0, 2, 4, 6, 8])\n",
      "-------------------------------------------\n",
      "using linspace ->tensor([ 1.,  2.,  3.,  4.,  5.,  6.,  7.,  8.,  9., 10.])\n",
      "-------------------------------------------\n",
      "using eye ->tensor([[1., 0., 0., 0., 0., 0., 0.],\n",
      "        [0., 1., 0., 0., 0., 0., 0.],\n",
      "        [0., 0., 1., 0., 0., 0., 0.],\n",
      "        [0., 0., 0., 1., 0., 0., 0.],\n",
      "        [0., 0., 0., 0., 1., 0., 0.],\n",
      "        [0., 0., 0., 0., 0., 1., 0.],\n",
      "        [0., 0., 0., 0., 0., 0., 1.]])\n",
      "-------------------------------------------\n",
      "using diag ->tensor([0.3039, 0.7590, 0.9454])\n",
      "-------------------------------------------\n",
      "using full ->tensor([[6, 6, 6],\n",
      "        [6, 6, 6]])\n"
     ]
    }
   ],
   "source": [
    "# other ways\n",
    "# arange\n",
    "print(f'using arange ->{torch.arange(0,10,2)}')\n",
    "print('-------------------------------------------')\n",
    "# linspace\n",
    "print(f'using linspace ->{torch.linspace(1,10,10)}')\n",
    "print('-------------------------------------------')\n",
    "# eye\n",
    "print(f'using eye ->{torch.eye(7)}')\n",
    "print('-------------------------------------------')\n",
    "# diag\n",
    "print(f'using diag ->{torch.diag(torch.rand(3,4))}')\n",
    "print('-------------------------------------------')\n",
    "# full\n",
    "print(f'using full ->{torch.full((2,3),6)}')"
   ]
  },
  {
   "cell_type": "markdown",
   "metadata": {
    "id": "Y6bPddQQOraM"
   },
   "source": [
    "# Tensor Shapes"
   ]
  },
  {
   "cell_type": "code",
   "execution_count": 54,
   "metadata": {
    "colab": {
     "base_uri": "https://localhost:8080/"
    },
    "id": "pISK4ljCOrDq",
    "outputId": "3ec3bfe2-cbd6-4297-832b-66e16fe1bf1d"
   },
   "outputs": [
    {
     "data": {
      "text/plain": [
       "tensor([[1, 3, 5],\n",
       "        [2, 4, 6]])"
      ]
     },
     "execution_count": 54,
     "metadata": {},
     "output_type": "execute_result"
    }
   ],
   "source": [
    "x = torch.tensor([[1,3,5],[2,4,6]])\n",
    "x"
   ]
  },
  {
   "cell_type": "code",
   "execution_count": 45,
   "metadata": {
    "colab": {
     "base_uri": "https://localhost:8080/"
    },
    "id": "hw0mwG9AOU5n",
    "outputId": "a6dad30a-30a9-4f30-bfb7-9ad23fd4d764"
   },
   "outputs": [
    {
     "data": {
      "text/plain": [
       "torch.Size([2, 3])"
      ]
     },
     "execution_count": 45,
     "metadata": {},
     "output_type": "execute_result"
    }
   ],
   "source": [
    "x.shape"
   ]
  },
  {
   "cell_type": "code",
   "execution_count": 49,
   "metadata": {
    "colab": {
     "base_uri": "https://localhost:8080/"
    },
    "id": "LAAQykwJPVPK",
    "outputId": "fd70df0c-d78e-49ac-be25-c1b716fc541e"
   },
   "outputs": [
    {
     "data": {
      "text/plain": [
       "tensor([[    139149907971472,     139149907971472,                   0],\n",
       "        [                  0,                   0, 7310593858020254331]])"
      ]
     },
     "execution_count": 49,
     "metadata": {},
     "output_type": "execute_result"
    }
   ],
   "source": [
    "torch.empty_like(x)"
   ]
  },
  {
   "cell_type": "code",
   "execution_count": 50,
   "metadata": {
    "colab": {
     "base_uri": "https://localhost:8080/"
    },
    "id": "gDghM2MkPbJa",
    "outputId": "b4d143ac-bcae-4947-afd6-c3ffe03c92d1"
   },
   "outputs": [
    {
     "data": {
      "text/plain": [
       "tensor([[0, 0, 0],\n",
       "        [0, 0, 0]])"
      ]
     },
     "execution_count": 50,
     "metadata": {},
     "output_type": "execute_result"
    }
   ],
   "source": [
    "torch.zeros_like(x)\n"
   ]
  },
  {
   "cell_type": "code",
   "execution_count": 51,
   "metadata": {
    "colab": {
     "base_uri": "https://localhost:8080/"
    },
    "id": "ps0P6KiBPdff",
    "outputId": "6f19eb5d-4e82-4504-c64f-3ff33825df2b"
   },
   "outputs": [
    {
     "data": {
      "text/plain": [
       "tensor([[1, 1, 1],\n",
       "        [1, 1, 1]])"
      ]
     },
     "execution_count": 51,
     "metadata": {},
     "output_type": "execute_result"
    }
   ],
   "source": [
    "torch.ones_like(x)"
   ]
  },
  {
   "cell_type": "code",
   "execution_count": 66,
   "metadata": {
    "colab": {
     "base_uri": "https://localhost:8080/"
    },
    "id": "wcNYTk7ZPscj",
    "outputId": "e4b9c057-bce8-47b9-a234-836c17eb9fac"
   },
   "outputs": [
    {
     "data": {
      "text/plain": [
       "tensor([[0.1893, 0.9186, 0.2131],\n",
       "        [0.3957, 0.6017, 0.4234]])"
      ]
     },
     "execution_count": 66,
     "metadata": {},
     "output_type": "execute_result"
    }
   ],
   "source": [
    "torch.rand_like(x, dtype=torch.float32)"
   ]
  },
  {
   "cell_type": "markdown",
   "metadata": {
    "id": "LI-GG-xjPx_M"
   },
   "source": [
    "# Tensor Data Types"
   ]
  },
  {
   "cell_type": "code",
   "execution_count": 57,
   "metadata": {
    "colab": {
     "base_uri": "https://localhost:8080/"
    },
    "id": "cfK11dSuP2W0",
    "outputId": "222a0315-a2bb-4a3d-fdd5-85cd1d292fd2"
   },
   "outputs": [
    {
     "data": {
      "text/plain": [
       "torch.int64"
      ]
     },
     "execution_count": 57,
     "metadata": {},
     "output_type": "execute_result"
    }
   ],
   "source": [
    "# find data types\n",
    "x.dtype"
   ]
  },
  {
   "cell_type": "code",
   "execution_count": 59,
   "metadata": {
    "colab": {
     "base_uri": "https://localhost:8080/"
    },
    "id": "hPOhRuUiP76p",
    "outputId": "64f1c63d-b620-42d9-a82b-7184ff01420f"
   },
   "outputs": [
    {
     "data": {
      "text/plain": [
       "tensor([1., 2., 3.], dtype=torch.float64)"
      ]
     },
     "execution_count": 59,
     "metadata": {},
     "output_type": "execute_result"
    }
   ],
   "source": [
    "# assign data type\n",
    "torch.tensor([1,2,3],dtype=torch.float64)"
   ]
  },
  {
   "cell_type": "code",
   "execution_count": 60,
   "metadata": {
    "colab": {
     "base_uri": "https://localhost:8080/"
    },
    "id": "9OPXzg-DQKx7",
    "outputId": "994d221f-e20a-40b6-cf67-f05ee66c460f"
   },
   "outputs": [
    {
     "data": {
      "text/plain": [
       "tensor([1, 4, 5])"
      ]
     },
     "execution_count": 60,
     "metadata": {},
     "output_type": "execute_result"
    }
   ],
   "source": [
    "torch.tensor([1.4,4.2,5.3],dtype=torch.int64)"
   ]
  },
  {
   "cell_type": "code",
   "execution_count": 61,
   "metadata": {
    "colab": {
     "base_uri": "https://localhost:8080/"
    },
    "id": "nRHwZpXuQha5",
    "outputId": "c88df428-23dc-4910-83b6-e2f3e0f2b2fd"
   },
   "outputs": [
    {
     "data": {
      "text/plain": [
       "tensor([[1., 3., 5.],\n",
       "        [2., 4., 6.]], dtype=torch.float64)"
      ]
     },
     "execution_count": 61,
     "metadata": {},
     "output_type": "execute_result"
    }
   ],
   "source": [
    "# using to()\n",
    "x.to(torch.float64)"
   ]
  },
  {
   "cell_type": "markdown",
   "metadata": {
    "id": "GIi9BY5pQzsN"
   },
   "source": [
    "| **Data Type**             | **Dtype**         | **Description**                                                                                                                                                                |\n",
    "|---------------------------|-------------------|--------------------------------------------------------------------------------------------------------------------------------------------------------------------------------|\n",
    "| **32-bit Floating Point** | `torch.float32`   | Standard floating-point type used for most deep learning tasks. Provides a balance between precision and memory usage.                                                         |\n",
    "| **64-bit Floating Point** | `torch.float64`   | Double-precision floating point. Useful for high-precision numerical tasks but uses more memory.                                                                               |\n",
    "| **16-bit Floating Point** | `torch.float16`   | Half-precision floating point. Commonly used in mixed-precision training to reduce memory and computational overhead on modern GPUs.                                            |\n",
    "| **BFloat16**              | `torch.bfloat16`  | Brain floating-point format with reduced precision compared to `float16`. Used in mixed-precision training, especially on TPUs.                                                |\n",
    "| **8-bit Floating Point**  | `torch.float8`    | Ultra-low-precision floating point. Used for experimental applications and extreme memory-constrained environments (less common).                                               |\n",
    "| **8-bit Integer**         | `torch.int8`      | 8-bit signed integer. Used for quantized models to save memory and computation in inference.                                                                                   |\n",
    "| **16-bit Integer**        | `torch.int16`     | 16-bit signed integer. Useful for special numerical tasks requiring intermediate precision.                                                                                    |\n",
    "| **32-bit Integer**        | `torch.int32`     | Standard signed integer type. Commonly used for indexing and general-purpose numerical tasks.                                                                                  |\n",
    "| **64-bit Integer**        | `torch.int64`     | Long integer type. Often used for large indexing arrays or for tasks involving large numbers.                                                                                  |\n",
    "| **8-bit Unsigned Integer**| `torch.uint8`     | 8-bit unsigned integer. Commonly used for image data (e.g., pixel values between 0 and 255).                                                                                    |\n",
    "| **Boolean**               | `torch.bool`      | Boolean type, stores `True` or `False` values. Often used for masks in logical operations.                                                                                      |\n",
    "| **Complex 64**            | `torch.complex64` | Complex number type with 32-bit real and 32-bit imaginary parts. Used for scientific and signal processing tasks.                                                               |\n",
    "| **Complex 128**           | `torch.complex128`| Complex number type with 64-bit real and 64-bit imaginary parts. Offers higher precision but uses more memory.                                                                 |\n",
    "| **Quantized Integer**     | `torch.qint8`     | Quantized signed 8-bit integer. Used in quantized models for efficient inference.                                                                                              |\n",
    "| **Quantized Unsigned Integer** | `torch.quint8` | Quantized unsigned 8-bit integer. Often used for quantized tensors in image-related tasks.                                                                                     |\n"
   ]
  },
  {
   "cell_type": "markdown",
   "metadata": {
    "id": "3K5J5d30RoeZ"
   },
   "source": [
    "# Mathematical operations"
   ]
  },
  {
   "cell_type": "markdown",
   "metadata": {
    "id": "NI0Qjm0HR0mU"
   },
   "source": [
    "## 1. Scalar operation"
   ]
  },
  {
   "cell_type": "code",
   "execution_count": 69,
   "metadata": {
    "colab": {
     "base_uri": "https://localhost:8080/"
    },
    "id": "IeJDtGVoRvtE",
    "outputId": "44fdc1bd-e880-4921-f34b-105b08a8c2b2"
   },
   "outputs": [
    {
     "data": {
      "text/plain": [
       "tensor([[0.3079, 0.6269],\n",
       "        [0.8277, 0.6594]])"
      ]
     },
     "execution_count": 69,
     "metadata": {},
     "output_type": "execute_result"
    }
   ],
   "source": [
    "x = torch.rand(2,2)\n",
    "x"
   ]
  },
  {
   "cell_type": "code",
   "execution_count": 74,
   "metadata": {
    "colab": {
     "base_uri": "https://localhost:8080/"
    },
    "id": "d4j-hkn_SJ5K",
    "outputId": "7e619bbd-4387-4136-ece5-4b00cb9491eb"
   },
   "outputs": [
    {
     "data": {
      "text/plain": [
       "tensor([[0., 0.],\n",
       "        [1., 1.]])"
      ]
     },
     "execution_count": 74,
     "metadata": {},
     "output_type": "execute_result"
    }
   ],
   "source": [
    "# addition\n",
    "x + 2\n",
    "\n",
    "# substraction\n",
    "x - 2\n",
    "\n",
    "# multiplication\n",
    "x * 3\n",
    "\n",
    "# division\n",
    "(x * 100)//3\n",
    "\n",
    "# mod\n",
    "((x*100)//3)%2"
   ]
  },
  {
   "cell_type": "code",
   "execution_count": 75,
   "metadata": {
    "colab": {
     "base_uri": "https://localhost:8080/"
    },
    "id": "YCGPuWfcSwuP",
    "outputId": "c25836af-c7c6-46f8-c870-a24fd55f4b6e"
   },
   "outputs": [
    {
     "data": {
      "text/plain": [
       "tensor([[0.0948, 0.3931],\n",
       "        [0.6850, 0.4347]])"
      ]
     },
     "execution_count": 75,
     "metadata": {},
     "output_type": "execute_result"
    }
   ],
   "source": [
    "# power\n",
    "x**2"
   ]
  },
  {
   "cell_type": "markdown",
   "metadata": {
    "id": "OwbGYt49TmC8"
   },
   "source": [
    "## 2. Element wise operations"
   ]
  },
  {
   "cell_type": "code",
   "execution_count": 78,
   "metadata": {
    "colab": {
     "base_uri": "https://localhost:8080/"
    },
    "id": "JlWVwZBdT0P4",
    "outputId": "88348f0d-52c7-41b9-a3fa-c95da1278f57"
   },
   "outputs": [
    {
     "name": "stdout",
     "output_type": "stream",
     "text": [
      "tensor([[0.4847, 0.9436, 0.3904],\n",
      "        [0.2499, 0.3206, 0.9753]])\n",
      "tensor([[0.7582, 0.6688, 0.2651],\n",
      "        [0.2336, 0.5057, 0.5688]])\n"
     ]
    }
   ],
   "source": [
    "a = torch.rand(2,3)\n",
    "b = torch.rand(2,3)\n",
    "\n",
    "print(a)\n",
    "print(b)"
   ]
  },
  {
   "cell_type": "code",
   "execution_count": 79,
   "metadata": {
    "colab": {
     "base_uri": "https://localhost:8080/"
    },
    "id": "T3rlXgjGUK2b",
    "outputId": "67c214e6-3d47-43bd-9381-14caaedd3e65"
   },
   "outputs": [
    {
     "data": {
      "text/plain": [
       "tensor([[0.4847, 0.2748, 0.1253],\n",
       "        [0.0163, 0.3206, 0.4064]])"
      ]
     },
     "execution_count": 79,
     "metadata": {},
     "output_type": "execute_result"
    }
   ],
   "source": [
    "# add\n",
    "a + b\n",
    "# sub\n",
    "a - b\n",
    "# multi\n",
    "a * b\n",
    "# div\n",
    "a / b\n",
    "# power\n",
    "a ** b\n",
    "# mod\n",
    "a % b"
   ]
  },
  {
   "cell_type": "code",
   "execution_count": 81,
   "metadata": {
    "colab": {
     "base_uri": "https://localhost:8080/"
    },
    "id": "bISMJimYUxSI",
    "outputId": "87296a33-65af-46bd-dee1-e4b2246d1f49"
   },
   "outputs": [
    {
     "data": {
      "text/plain": [
       "tensor([ 1, -2,  3, -4])"
      ]
     },
     "execution_count": 81,
     "metadata": {},
     "output_type": "execute_result"
    }
   ],
   "source": [
    "c = torch.tensor([1, -2, 3, -4])\n",
    "c"
   ]
  },
  {
   "cell_type": "code",
   "execution_count": 82,
   "metadata": {
    "colab": {
     "base_uri": "https://localhost:8080/"
    },
    "id": "PzAlevbSUrsb",
    "outputId": "1392650d-2f33-40cf-ba3f-eec83f05969e"
   },
   "outputs": [
    {
     "data": {
      "text/plain": [
       "tensor([1, 2, 3, 4])"
      ]
     },
     "execution_count": 82,
     "metadata": {},
     "output_type": "execute_result"
    }
   ],
   "source": [
    "# absulote\n",
    "torch.abs(c)"
   ]
  },
  {
   "cell_type": "code",
   "execution_count": 84,
   "metadata": {
    "colab": {
     "base_uri": "https://localhost:8080/"
    },
    "id": "A1w02ztBU4Fo",
    "outputId": "d6679d3b-da89-4bbe-dc3a-b1514c589ea5"
   },
   "outputs": [
    {
     "data": {
      "text/plain": [
       "tensor([-1,  2, -3,  4])"
      ]
     },
     "execution_count": 84,
     "metadata": {},
     "output_type": "execute_result"
    }
   ],
   "source": [
    "# neg\n",
    "torch.neg(c)"
   ]
  },
  {
   "cell_type": "code",
   "execution_count": 86,
   "metadata": {
    "colab": {
     "base_uri": "https://localhost:8080/"
    },
    "id": "MNt6iRrwVI7t",
    "outputId": "d2d5c2d0-9823-4094-f05f-09561c20e629"
   },
   "outputs": [
    {
     "data": {
      "text/plain": [
       "tensor([1.9000, 3.5000, 9.3000, 2.6000, 8.4000])"
      ]
     },
     "execution_count": 86,
     "metadata": {},
     "output_type": "execute_result"
    }
   ],
   "source": [
    "d = torch.tensor([1.9,3.5,9.3,2.6,8.4])\n",
    "d"
   ]
  },
  {
   "cell_type": "code",
   "execution_count": 87,
   "metadata": {
    "colab": {
     "base_uri": "https://localhost:8080/"
    },
    "id": "M9gisHHSVVeG",
    "outputId": "e467c9c1-d0d1-4d99-a5f2-775ba25b319f"
   },
   "outputs": [
    {
     "data": {
      "text/plain": [
       "tensor([2., 4., 9., 3., 8.])"
      ]
     },
     "execution_count": 87,
     "metadata": {},
     "output_type": "execute_result"
    }
   ],
   "source": [
    "# round\n",
    "torch.round(d)"
   ]
  },
  {
   "cell_type": "code",
   "execution_count": 90,
   "metadata": {
    "colab": {
     "base_uri": "https://localhost:8080/"
    },
    "id": "1nC53YNYVZg-",
    "outputId": "4713bfae-ac4d-4627-f751-2f2f67045890"
   },
   "outputs": [
    {
     "data": {
      "text/plain": [
       "tensor([ 2.,  4., 10.,  3.,  9.])"
      ]
     },
     "execution_count": 90,
     "metadata": {},
     "output_type": "execute_result"
    }
   ],
   "source": [
    "# ceil\n",
    "torch.ceil(d)"
   ]
  },
  {
   "cell_type": "code",
   "execution_count": 91,
   "metadata": {
    "colab": {
     "base_uri": "https://localhost:8080/"
    },
    "id": "oMa0vW0HVhlu",
    "outputId": "f86e4b20-5b4b-435f-ef69-76d25ac43c95"
   },
   "outputs": [
    {
     "data": {
      "text/plain": [
       "tensor([1., 3., 9., 2., 8.])"
      ]
     },
     "execution_count": 91,
     "metadata": {},
     "output_type": "execute_result"
    }
   ],
   "source": [
    "# floor\n",
    "torch.floor(d)"
   ]
  },
  {
   "cell_type": "code",
   "execution_count": 92,
   "metadata": {
    "colab": {
     "base_uri": "https://localhost:8080/"
    },
    "id": "qboQbd3RVlGV",
    "outputId": "7ff8e1cc-4337-4178-e630-a7487be466e9"
   },
   "outputs": [
    {
     "data": {
      "text/plain": [
       "tensor([3.0000, 3.5000, 8.0000, 3.0000, 8.0000])"
      ]
     },
     "execution_count": 92,
     "metadata": {},
     "output_type": "execute_result"
    }
   ],
   "source": [
    "# clamp\n",
    "torch.clamp(d, min=3, max=8)"
   ]
  },
  {
   "cell_type": "markdown",
   "metadata": {
    "id": "2x--MsYdXQog"
   },
   "source": [
    "# Reduction operation"
   ]
  },
  {
   "cell_type": "code",
   "execution_count": 95,
   "metadata": {
    "colab": {
     "base_uri": "https://localhost:8080/"
    },
    "id": "UPcJhFmpX3oF",
    "outputId": "bdc8be31-84bb-4a27-f95a-60faa6dff5ce"
   },
   "outputs": [
    {
     "data": {
      "text/plain": [
       "tensor([[2, 2, 3],\n",
       "        [7, 1, 5]])"
      ]
     },
     "execution_count": 95,
     "metadata": {},
     "output_type": "execute_result"
    }
   ],
   "source": [
    "e = torch.randint(size=(2,3), low=0, high=10)\n",
    "e"
   ]
  },
  {
   "cell_type": "code",
   "execution_count": 97,
   "metadata": {
    "colab": {
     "base_uri": "https://localhost:8080/"
    },
    "id": "AASoMg6-YBtj",
    "outputId": "dfd52971-4ea7-40aa-f5b2-63bcccadd851"
   },
   "outputs": [
    {
     "data": {
      "text/plain": [
       "tensor(20)"
      ]
     },
     "execution_count": 97,
     "metadata": {},
     "output_type": "execute_result"
    }
   ],
   "source": [
    "# sum\n",
    "torch.sum(e)"
   ]
  },
  {
   "cell_type": "code",
   "execution_count": 98,
   "metadata": {
    "colab": {
     "base_uri": "https://localhost:8080/"
    },
    "id": "lvPzFM3tYH8o",
    "outputId": "cb14efc7-a226-42c7-f0f4-f9358bdb98dd"
   },
   "outputs": [
    {
     "data": {
      "text/plain": [
       "tensor([9, 3, 8])"
      ]
     },
     "execution_count": 98,
     "metadata": {},
     "output_type": "execute_result"
    }
   ],
   "source": [
    "# sum along columns\n",
    "torch.sum(e, dim=0)"
   ]
  },
  {
   "cell_type": "code",
   "execution_count": 99,
   "metadata": {
    "colab": {
     "base_uri": "https://localhost:8080/"
    },
    "id": "p5bCAR8wYL9-",
    "outputId": "d5bc546b-bfa8-4739-8cc9-bddc026f1e9c"
   },
   "outputs": [
    {
     "data": {
      "text/plain": [
       "tensor([ 7, 13])"
      ]
     },
     "execution_count": 99,
     "metadata": {},
     "output_type": "execute_result"
    }
   ],
   "source": [
    "# sum along rows\n",
    "torch.sum(e, dim=1)"
   ]
  },
  {
   "cell_type": "code",
   "execution_count": 100,
   "metadata": {
    "colab": {
     "base_uri": "https://localhost:8080/"
    },
    "id": "tpjfR7P4YQOH",
    "outputId": "14ea025d-5ee7-4b8f-ff61-32f1c846ff85"
   },
   "outputs": [
    {
     "data": {
      "text/plain": [
       "tensor([2.3333, 4.3333])"
      ]
     },
     "execution_count": 100,
     "metadata": {},
     "output_type": "execute_result"
    }
   ],
   "source": [
    "# mean\n",
    "torch.mean(e.float(), dim=1)"
   ]
  },
  {
   "cell_type": "code",
   "execution_count": 101,
   "metadata": {
    "colab": {
     "base_uri": "https://localhost:8080/"
    },
    "id": "pSOKRWZHYTrM",
    "outputId": "2211b0d4-65d5-4da6-ff75-70ef6c1b60e1"
   },
   "outputs": [
    {
     "data": {
      "text/plain": [
       "tensor([4.5000, 1.5000, 4.0000])"
      ]
     },
     "execution_count": 101,
     "metadata": {},
     "output_type": "execute_result"
    }
   ],
   "source": [
    "# mean along columns\n",
    "torch.mean(e.float(), dim=0)"
   ]
  },
  {
   "cell_type": "code",
   "execution_count": 102,
   "metadata": {
    "colab": {
     "base_uri": "https://localhost:8080/"
    },
    "id": "ymXuU_8wYbFq",
    "outputId": "60f9dc48-169d-49be-a774-5a74ad3d2547"
   },
   "outputs": [
    {
     "data": {
      "text/plain": [
       "tensor(2.)"
      ]
     },
     "execution_count": 102,
     "metadata": {},
     "output_type": "execute_result"
    }
   ],
   "source": [
    "# median\n",
    "torch.median(e.float())"
   ]
  },
  {
   "cell_type": "code",
   "execution_count": 103,
   "metadata": {
    "colab": {
     "base_uri": "https://localhost:8080/"
    },
    "id": "sSqaxaI1YdiK",
    "outputId": "6146cf9f-280f-4cb1-de49-bc607dbde091"
   },
   "outputs": [
    {
     "data": {
      "text/plain": [
       "tensor(1)"
      ]
     },
     "execution_count": 103,
     "metadata": {},
     "output_type": "execute_result"
    }
   ],
   "source": [
    "# max and min\n",
    "torch.max(e)\n",
    "torch.min(e)"
   ]
  },
  {
   "cell_type": "code",
   "execution_count": 104,
   "metadata": {
    "colab": {
     "base_uri": "https://localhost:8080/"
    },
    "id": "QP70sUVcYfvY",
    "outputId": "f9e7d775-55ea-41fd-cbbc-aa9703825006"
   },
   "outputs": [
    {
     "data": {
      "text/plain": [
       "tensor(420)"
      ]
     },
     "execution_count": 104,
     "metadata": {},
     "output_type": "execute_result"
    }
   ],
   "source": [
    "# product\n",
    "torch.prod(e)"
   ]
  },
  {
   "cell_type": "code",
   "execution_count": 106,
   "metadata": {
    "colab": {
     "base_uri": "https://localhost:8080/"
    },
    "id": "a1Og4wPkYi7w",
    "outputId": "0b5f9162-28f9-472a-f7ec-9933a8f2b680"
   },
   "outputs": [
    {
     "data": {
      "text/plain": [
       "tensor(2.2509)"
      ]
     },
     "execution_count": 106,
     "metadata": {},
     "output_type": "execute_result"
    }
   ],
   "source": [
    "# Standard deviaiton\n",
    "torch.std(e.float())"
   ]
  },
  {
   "cell_type": "code",
   "execution_count": 107,
   "metadata": {
    "colab": {
     "base_uri": "https://localhost:8080/"
    },
    "id": "aGinJaPbYsWf",
    "outputId": "39d4a6a6-0c2a-402e-d4c2-6af016cd1635"
   },
   "outputs": [
    {
     "data": {
      "text/plain": [
       "tensor(5.0667)"
      ]
     },
     "execution_count": 107,
     "metadata": {},
     "output_type": "execute_result"
    }
   ],
   "source": [
    "# variance\n",
    "torch.var(e.float())"
   ]
  },
  {
   "cell_type": "code",
   "execution_count": 108,
   "metadata": {
    "colab": {
     "base_uri": "https://localhost:8080/"
    },
    "id": "lvnB3hmuYvhV",
    "outputId": "91faf359-8327-4460-8b4a-0351ae66389a"
   },
   "outputs": [
    {
     "data": {
      "text/plain": [
       "tensor(3)"
      ]
     },
     "execution_count": 108,
     "metadata": {},
     "output_type": "execute_result"
    }
   ],
   "source": [
    "# argmax\n",
    "torch.argmax(e)"
   ]
  },
  {
   "cell_type": "code",
   "execution_count": 109,
   "metadata": {
    "colab": {
     "base_uri": "https://localhost:8080/"
    },
    "id": "t-Zyy3ocY4J7",
    "outputId": "4c4bb42a-2688-47e0-a314-4939a7292123"
   },
   "outputs": [
    {
     "data": {
      "text/plain": [
       "tensor(4)"
      ]
     },
     "execution_count": 109,
     "metadata": {},
     "output_type": "execute_result"
    }
   ],
   "source": [
    "# argmin\n",
    "torch.argmin(e)"
   ]
  },
  {
   "cell_type": "markdown",
   "metadata": {
    "id": "yZiqzyCjZAro"
   },
   "source": [
    "# Matrix Operations"
   ]
  },
  {
   "cell_type": "code",
   "execution_count": 112,
   "metadata": {
    "colab": {
     "base_uri": "https://localhost:8080/"
    },
    "id": "XL6QmYvsY6Q5",
    "outputId": "cc9a520a-7eb6-4286-c5f4-c4210494cfbd"
   },
   "outputs": [
    {
     "name": "stdout",
     "output_type": "stream",
     "text": [
      "tensor([[3, 6, 7],\n",
      "        [8, 1, 2]])\n",
      "tensor([[3, 2],\n",
      "        [7, 9],\n",
      "        [3, 9]])\n"
     ]
    }
   ],
   "source": [
    "f = torch.randint(size=(2,3), low=0, high=10)\n",
    "g = torch.randint(size=(3,2), low=0, high=10)\n",
    "\n",
    "print(f)\n",
    "print(g)"
   ]
  },
  {
   "cell_type": "code",
   "execution_count": 115,
   "metadata": {
    "colab": {
     "base_uri": "https://localhost:8080/"
    },
    "id": "1Gof1WczZPtS",
    "outputId": "c97131a0-e6d4-47dd-a9ec-4918fcd535d3"
   },
   "outputs": [
    {
     "data": {
      "text/plain": [
       "tensor([[ 72, 123],\n",
       "        [ 37,  43]])"
      ]
     },
     "execution_count": 115,
     "metadata": {},
     "output_type": "execute_result"
    }
   ],
   "source": [
    "# matrix multiplication\n",
    "torch.matmul(f,g)"
   ]
  },
  {
   "cell_type": "code",
   "execution_count": 116,
   "metadata": {
    "colab": {
     "base_uri": "https://localhost:8080/"
    },
    "id": "vVHDGoTgZ99S",
    "outputId": "c1321058-399f-4bb2-ae14-ae2d2fbeac0f"
   },
   "outputs": [
    {
     "name": "stdout",
     "output_type": "stream",
     "text": [
      "tensor([1, 2, 3])\n",
      "tensor([4, 5, 6])\n"
     ]
    }
   ],
   "source": [
    "vector1 = torch.tensor([1,2,3])\n",
    "vector2 = torch.tensor([4,5,6])\n",
    "\n",
    "print(vector1)\n",
    "print(vector2)"
   ]
  },
  {
   "cell_type": "code",
   "execution_count": 117,
   "metadata": {
    "colab": {
     "base_uri": "https://localhost:8080/"
    },
    "id": "swIKarK1aGE4",
    "outputId": "b818858e-a39b-4797-fd01-0f4f30f88749"
   },
   "outputs": [
    {
     "data": {
      "text/plain": [
       "tensor(32)"
      ]
     },
     "execution_count": 117,
     "metadata": {},
     "output_type": "execute_result"
    }
   ],
   "source": [
    "# dot product\n",
    "torch.dot(vector1, vector2)"
   ]
  },
  {
   "cell_type": "code",
   "execution_count": 119,
   "metadata": {
    "colab": {
     "base_uri": "https://localhost:8080/"
    },
    "id": "ovxsk0fJaKz2",
    "outputId": "415ea468-bc10-4015-a5d7-b6a973451630"
   },
   "outputs": [
    {
     "name": "stdout",
     "output_type": "stream",
     "text": [
      "tensor([[3, 6, 7],\n",
      "        [8, 1, 2]])\n"
     ]
    },
    {
     "data": {
      "text/plain": [
       "tensor([[3, 8],\n",
       "        [6, 1],\n",
       "        [7, 2]])"
      ]
     },
     "execution_count": 119,
     "metadata": {},
     "output_type": "execute_result"
    }
   ],
   "source": [
    "# transpose\n",
    "print(f)\n",
    "torch.t(f)"
   ]
  },
  {
   "cell_type": "code",
   "execution_count": 127,
   "metadata": {
    "colab": {
     "base_uri": "https://localhost:8080/"
    },
    "id": "-iIUjeqZaXAJ",
    "outputId": "97d925b6-aa7c-459c-ad47-249a26468dbb"
   },
   "outputs": [
    {
     "data": {
      "text/plain": [
       "tensor([[5., 0., 6.],\n",
       "        [7., 7., 8.],\n",
       "        [8., 9., 6.]])"
      ]
     },
     "execution_count": 127,
     "metadata": {},
     "output_type": "execute_result"
    }
   ],
   "source": [
    "h = torch.randint(size=(3,3), low=0, high=10, dtype=torch.float32)\n",
    "h"
   ]
  },
  {
   "cell_type": "code",
   "execution_count": 128,
   "metadata": {
    "colab": {
     "base_uri": "https://localhost:8080/"
    },
    "id": "t7nlEKS4aqTL",
    "outputId": "d1979eac-c5e0-4a11-95e6-cf080c8663b6"
   },
   "outputs": [
    {
     "data": {
      "text/plain": [
       "tensor(-108.0000)"
      ]
     },
     "execution_count": 128,
     "metadata": {},
     "output_type": "execute_result"
    }
   ],
   "source": [
    "# determinant\n",
    "torch.det(h)"
   ]
  },
  {
   "cell_type": "code",
   "execution_count": 129,
   "metadata": {
    "colab": {
     "base_uri": "https://localhost:8080/"
    },
    "id": "G3RhhlLIau4G",
    "outputId": "c560b5d3-7b62-482a-95c3-a98a8e570256"
   },
   "outputs": [
    {
     "data": {
      "text/plain": [
       "tensor([[ 0.2778, -0.5000,  0.3889],\n",
       "        [-0.2037,  0.1667, -0.0185],\n",
       "        [-0.0648,  0.4167, -0.3241]])"
      ]
     },
     "execution_count": 129,
     "metadata": {},
     "output_type": "execute_result"
    }
   ],
   "source": [
    "# inverse\n",
    "torch.inverse(h)"
   ]
  },
  {
   "cell_type": "markdown",
   "metadata": {
    "id": "Ee0X8g6Pa8hN"
   },
   "source": [
    "## Comparison operations"
   ]
  },
  {
   "cell_type": "code",
   "execution_count": 130,
   "metadata": {
    "colab": {
     "base_uri": "https://localhost:8080/"
    },
    "id": "nYP0UxG9a1EY",
    "outputId": "0953b293-b6c6-443a-9630-6178c31b260e"
   },
   "outputs": [
    {
     "name": "stdout",
     "output_type": "stream",
     "text": [
      "tensor([[2, 9, 4],\n",
      "        [5, 5, 3]])\n",
      "tensor([[5, 0, 7],\n",
      "        [4, 7, 1]])\n"
     ]
    }
   ],
   "source": [
    "i = torch.randint(size=(2,3), low=0, high=10)\n",
    "j = torch.randint(size=(2,3), low=0, high=10)\n",
    "\n",
    "print(i)\n",
    "print(j)"
   ]
  },
  {
   "cell_type": "code",
   "execution_count": 131,
   "metadata": {
    "colab": {
     "base_uri": "https://localhost:8080/"
    },
    "id": "M2mdpmjCbE8A",
    "outputId": "aca14e3b-4c78-42da-f2af-69ebbf699447"
   },
   "outputs": [
    {
     "data": {
      "text/plain": [
       "tensor([[False,  True, False],\n",
       "        [ True, False,  True]])"
      ]
     },
     "execution_count": 131,
     "metadata": {},
     "output_type": "execute_result"
    }
   ],
   "source": [
    "# greater than\n",
    "i > j"
   ]
  },
  {
   "cell_type": "code",
   "execution_count": 132,
   "metadata": {
    "colab": {
     "base_uri": "https://localhost:8080/"
    },
    "id": "WUiB31PibI4s",
    "outputId": "d1ebf488-f860-42e3-8e38-324e4dbb00e6"
   },
   "outputs": [
    {
     "data": {
      "text/plain": [
       "tensor([[ True, False,  True],\n",
       "        [False,  True, False]])"
      ]
     },
     "execution_count": 132,
     "metadata": {},
     "output_type": "execute_result"
    }
   ],
   "source": [
    "# less than\n",
    "i < j"
   ]
  },
  {
   "cell_type": "code",
   "execution_count": 133,
   "metadata": {
    "colab": {
     "base_uri": "https://localhost:8080/"
    },
    "id": "OQhCjd-TbMvf",
    "outputId": "a417c8e5-b0e5-4b06-e6d5-9152f7c298ea"
   },
   "outputs": [
    {
     "data": {
      "text/plain": [
       "tensor([[False, False, False],\n",
       "        [False, False, False]])"
      ]
     },
     "execution_count": 133,
     "metadata": {},
     "output_type": "execute_result"
    }
   ],
   "source": [
    "# equal to\n",
    "i == j"
   ]
  },
  {
   "cell_type": "code",
   "execution_count": 134,
   "metadata": {
    "colab": {
     "base_uri": "https://localhost:8080/"
    },
    "id": "nlqmBnLEbRJ7",
    "outputId": "92bf38e6-7ca6-46c9-cdaf-3bb19b86507e"
   },
   "outputs": [
    {
     "data": {
      "text/plain": [
       "tensor([[True, True, True],\n",
       "        [True, True, True]])"
      ]
     },
     "execution_count": 134,
     "metadata": {},
     "output_type": "execute_result"
    }
   ],
   "source": [
    "# not equal to\n",
    "i != j"
   ]
  },
  {
   "cell_type": "code",
   "execution_count": 137,
   "metadata": {
    "colab": {
     "base_uri": "https://localhost:8080/"
    },
    "id": "x_Hff-9mglPX",
    "outputId": "c1daaf06-eb03-4dec-cbae-bbe98b6fee6f"
   },
   "outputs": [
    {
     "data": {
      "text/plain": [
       "tensor([[False,  True, False],\n",
       "        [ True, False,  True]])"
      ]
     },
     "execution_count": 137,
     "metadata": {},
     "output_type": "execute_result"
    }
   ],
   "source": [
    "# greater than equal to\n",
    "i >= j"
   ]
  },
  {
   "cell_type": "code",
   "execution_count": 138,
   "metadata": {
    "colab": {
     "base_uri": "https://localhost:8080/"
    },
    "id": "T5JWKHFiguBT",
    "outputId": "becfadc4-aecf-43ff-bd5c-526f17cb3242"
   },
   "outputs": [
    {
     "data": {
      "text/plain": [
       "tensor([[ True, False,  True],\n",
       "        [False,  True, False]])"
      ]
     },
     "execution_count": 138,
     "metadata": {},
     "output_type": "execute_result"
    }
   ],
   "source": [
    "# less than equal to\n",
    "i <= j"
   ]
  },
  {
   "cell_type": "markdown",
   "metadata": {
    "id": "OpH-_7Kmgy05"
   },
   "source": [
    "## 6. Special functions"
   ]
  },
  {
   "cell_type": "code",
   "execution_count": 146,
   "metadata": {
    "colab": {
     "base_uri": "https://localhost:8080/"
    },
    "id": "csn-_FoIgxyu",
    "outputId": "2d4ec291-b154-49cf-a307-0d55679ec8ac"
   },
   "outputs": [
    {
     "data": {
      "text/plain": [
       "tensor([[0., 8., 5.],\n",
       "        [1., 3., 8.]])"
      ]
     },
     "execution_count": 146,
     "metadata": {},
     "output_type": "execute_result"
    }
   ],
   "source": [
    "k = torch.randint(size=(2,3), low=0, high=10, dtype=torch.float32)\n",
    "k"
   ]
  },
  {
   "cell_type": "code",
   "execution_count": 140,
   "metadata": {
    "colab": {
     "base_uri": "https://localhost:8080/"
    },
    "id": "Cm9eJBlOhALG",
    "outputId": "3c09c666-5ece-4137-be1a-04b2c3225a65"
   },
   "outputs": [
    {
     "data": {
      "text/plain": [
       "tensor([[1.0986, 1.7918, 2.1972],\n",
       "        [1.9459,   -inf, 0.0000]])"
      ]
     },
     "execution_count": 140,
     "metadata": {},
     "output_type": "execute_result"
    }
   ],
   "source": [
    "# log\n",
    "torch.log(k)"
   ]
  },
  {
   "cell_type": "code",
   "execution_count": 141,
   "metadata": {
    "colab": {
     "base_uri": "https://localhost:8080/"
    },
    "id": "ruFxl4eKhDjb",
    "outputId": "ad4e1a6b-5c35-4066-f827-8615b7092535"
   },
   "outputs": [
    {
     "data": {
      "text/plain": [
       "tensor([[2.0086e+01, 4.0343e+02, 8.1031e+03],\n",
       "        [1.0966e+03, 1.0000e+00, 2.7183e+00]])"
      ]
     },
     "execution_count": 141,
     "metadata": {},
     "output_type": "execute_result"
    }
   ],
   "source": [
    "#  exp\n",
    "torch.exp(k)"
   ]
  },
  {
   "cell_type": "code",
   "execution_count": 142,
   "metadata": {
    "colab": {
     "base_uri": "https://localhost:8080/"
    },
    "id": "7PnvOQjOhGXA",
    "outputId": "db233a7b-86e9-4f55-bd24-a046bc517c14"
   },
   "outputs": [
    {
     "data": {
      "text/plain": [
       "tensor([[1.7321, 2.4495, 3.0000],\n",
       "        [2.6458, 0.0000, 1.0000]])"
      ]
     },
     "execution_count": 142,
     "metadata": {},
     "output_type": "execute_result"
    }
   ],
   "source": [
    "# sqrt\n",
    "torch.sqrt(k)"
   ]
  },
  {
   "cell_type": "code",
   "execution_count": 143,
   "metadata": {
    "colab": {
     "base_uri": "https://localhost:8080/"
    },
    "id": "dg7w89o6hIFp",
    "outputId": "b09c9240-bcfd-42b6-a79d-1af1f18634b1"
   },
   "outputs": [
    {
     "data": {
      "text/plain": [
       "tensor([[0.9526, 0.9975, 0.9999],\n",
       "        [0.9991, 0.5000, 0.7311]])"
      ]
     },
     "execution_count": 143,
     "metadata": {},
     "output_type": "execute_result"
    }
   ],
   "source": [
    "# sigmoid\n",
    "torch.sigmoid(k)"
   ]
  },
  {
   "cell_type": "code",
   "execution_count": 147,
   "metadata": {
    "colab": {
     "base_uri": "https://localhost:8080/"
    },
    "id": "0v-Ip2ODhKwn",
    "outputId": "1e0ee1e3-fbda-4d12-8283-477b61336c1f"
   },
   "outputs": [
    {
     "data": {
      "text/plain": [
       "tensor([[0.2689, 0.9933, 0.0474],\n",
       "        [0.7311, 0.0067, 0.9526]])"
      ]
     },
     "execution_count": 147,
     "metadata": {},
     "output_type": "execute_result"
    }
   ],
   "source": [
    "# softmax\n",
    "torch.softmax(k, dim=0)"
   ]
  },
  {
   "cell_type": "code",
   "execution_count": 148,
   "metadata": {
    "colab": {
     "base_uri": "https://localhost:8080/"
    },
    "id": "Y67abPs_iIV2",
    "outputId": "415bd88d-a7ab-41c8-f168-adc10ef68938"
   },
   "outputs": [
    {
     "data": {
      "text/plain": [
       "tensor([[0., 8., 5.],\n",
       "        [1., 3., 8.]])"
      ]
     },
     "execution_count": 148,
     "metadata": {},
     "output_type": "execute_result"
    }
   ],
   "source": [
    "# relu\n",
    "torch.relu(k)"
   ]
  },
  {
   "cell_type": "markdown",
   "metadata": {
    "id": "x0pXaP8BiHR4"
   },
   "source": [
    "# Inplace Operations"
   ]
  },
  {
   "cell_type": "code",
   "execution_count": 149,
   "metadata": {
    "colab": {
     "base_uri": "https://localhost:8080/"
    },
    "id": "YHbHmEghiOva",
    "outputId": "f15a4ba0-b4c4-44b2-9d1a-fdb86bcfa8da"
   },
   "outputs": [
    {
     "name": "stdout",
     "output_type": "stream",
     "text": [
      "tensor([[0.9355, 0.1430, 0.3933],\n",
      "        [0.1124, 0.3087, 0.9973]])\n",
      "tensor([[0.4257, 0.6890, 0.9657],\n",
      "        [0.0257, 0.4205, 0.0656]])\n"
     ]
    }
   ],
   "source": [
    "m = torch.rand(2,3)\n",
    "n = torch.rand(2,3)\n",
    "\n",
    "print(m)\n",
    "print(n)"
   ]
  },
  {
   "cell_type": "code",
   "execution_count": 150,
   "metadata": {
    "colab": {
     "base_uri": "https://localhost:8080/"
    },
    "id": "TvB5Syryis1U",
    "outputId": "683da00e-e4eb-4ae2-97a7-c0b28c7c2da9"
   },
   "outputs": [
    {
     "data": {
      "text/plain": [
       "tensor([[1.3612, 0.8320, 1.3590],\n",
       "        [0.1382, 0.7292, 1.0629]])"
      ]
     },
     "execution_count": 150,
     "metadata": {},
     "output_type": "execute_result"
    }
   ],
   "source": [
    "m + n"
   ]
  },
  {
   "cell_type": "code",
   "execution_count": 151,
   "metadata": {
    "colab": {
     "base_uri": "https://localhost:8080/"
    },
    "id": "zil0AqRejZSh",
    "outputId": "3ef5c3f7-144e-41f4-bbe5-717cea4b99fb"
   },
   "outputs": [
    {
     "data": {
      "text/plain": [
       "tensor([[1.3612, 0.8320, 1.3590],\n",
       "        [0.1382, 0.7292, 1.0629]])"
      ]
     },
     "execution_count": 151,
     "metadata": {},
     "output_type": "execute_result"
    }
   ],
   "source": [
    "m.add_(n)"
   ]
  },
  {
   "cell_type": "code",
   "execution_count": 152,
   "metadata": {
    "colab": {
     "base_uri": "https://localhost:8080/"
    },
    "id": "ReqVeXY6kK6m",
    "outputId": "a2de4a13-13fa-4548-cc8c-7f6e9dd33d7a"
   },
   "outputs": [
    {
     "data": {
      "text/plain": [
       "tensor([[1.3612, 0.8320, 1.3590],\n",
       "        [0.1382, 0.7292, 1.0629]])"
      ]
     },
     "execution_count": 152,
     "metadata": {},
     "output_type": "execute_result"
    }
   ],
   "source": [
    "m"
   ]
  },
  {
   "cell_type": "code",
   "execution_count": 153,
   "metadata": {
    "colab": {
     "base_uri": "https://localhost:8080/"
    },
    "id": "lRzKY7yikR0i",
    "outputId": "08afceb9-1c9e-48f9-cbd7-884f9525cfdd"
   },
   "outputs": [
    {
     "data": {
      "text/plain": [
       "tensor([[0.4257, 0.6890, 0.9657],\n",
       "        [0.0257, 0.4205, 0.0656]])"
      ]
     },
     "execution_count": 153,
     "metadata": {},
     "output_type": "execute_result"
    }
   ],
   "source": [
    "n"
   ]
  },
  {
   "cell_type": "code",
   "execution_count": 154,
   "metadata": {
    "colab": {
     "base_uri": "https://localhost:8080/"
    },
    "id": "fnAvJpN7kTQr",
    "outputId": "5dce2e31-5391-4c20-e1c8-3017a634f022"
   },
   "outputs": [
    {
     "data": {
      "text/plain": [
       "tensor([[1.3612, 0.8320, 1.3590],\n",
       "        [0.1382, 0.7292, 1.0629]])"
      ]
     },
     "execution_count": 154,
     "metadata": {},
     "output_type": "execute_result"
    }
   ],
   "source": [
    "torch.relu(m)"
   ]
  },
  {
   "cell_type": "code",
   "execution_count": 158,
   "metadata": {
    "colab": {
     "base_uri": "https://localhost:8080/"
    },
    "id": "9V8YwPHQkW_-",
    "outputId": "b86fa4fd-b108-4b31-af95-b9c9bcbadaa7"
   },
   "outputs": [
    {
     "data": {
      "text/plain": [
       "tensor([[1.3612, 0.8320, 1.3590],\n",
       "        [0.1382, 0.7292, 1.0629]])"
      ]
     },
     "execution_count": 158,
     "metadata": {},
     "output_type": "execute_result"
    }
   ],
   "source": [
    "m.relu_()"
   ]
  },
  {
   "cell_type": "code",
   "execution_count": 157,
   "metadata": {
    "colab": {
     "base_uri": "https://localhost:8080/"
    },
    "id": "mSMPkN3IkcUs",
    "outputId": "5a242abe-3b10-46ff-fa34-0d3626f02ccf"
   },
   "outputs": [
    {
     "data": {
      "text/plain": [
       "tensor([[1.3612, 0.8320, 1.3590],\n",
       "        [0.1382, 0.7292, 1.0629]])"
      ]
     },
     "execution_count": 157,
     "metadata": {},
     "output_type": "execute_result"
    }
   ],
   "source": [
    "m"
   ]
  },
  {
   "cell_type": "markdown",
   "metadata": {
    "id": "asZwtQU1ki_H"
   },
   "source": [
    "# Copying a tensor"
   ]
  },
  {
   "cell_type": "code",
   "execution_count": 159,
   "metadata": {
    "colab": {
     "base_uri": "https://localhost:8080/"
    },
    "id": "Y-D2fySZkgH4",
    "outputId": "9b037dab-33a1-4734-bc51-e16f30a31f4d"
   },
   "outputs": [
    {
     "data": {
      "text/plain": [
       "tensor([[0.4508, 0.0553, 0.3140],\n",
       "        [0.7460, 0.9357, 0.8925]])"
      ]
     },
     "execution_count": 159,
     "metadata": {},
     "output_type": "execute_result"
    }
   ],
   "source": [
    "a = torch.rand(2,3)\n",
    "a"
   ]
  },
  {
   "cell_type": "code",
   "execution_count": 160,
   "metadata": {
    "id": "AOmZynwmkqHJ"
   },
   "outputs": [],
   "source": [
    "b = a"
   ]
  },
  {
   "cell_type": "code",
   "execution_count": 161,
   "metadata": {
    "colab": {
     "base_uri": "https://localhost:8080/"
    },
    "id": "TvGUKofIkrlc",
    "outputId": "0f7e54a2-212a-4288-d032-1c37685d7b24"
   },
   "outputs": [
    {
     "data": {
      "text/plain": [
       "tensor([[0.4508, 0.0553, 0.3140],\n",
       "        [0.7460, 0.9357, 0.8925]])"
      ]
     },
     "execution_count": 161,
     "metadata": {},
     "output_type": "execute_result"
    }
   ],
   "source": [
    "b"
   ]
  },
  {
   "cell_type": "code",
   "execution_count": 164,
   "metadata": {
    "colab": {
     "base_uri": "https://localhost:8080/"
    },
    "id": "e-rPQUV0lFDk",
    "outputId": "f6506c20-7a63-4d4a-ca62-08ff0c0429af"
   },
   "outputs": [
    {
     "data": {
      "text/plain": [
       "(tensor([[0.0000, 0.0553, 0.3140],\n",
       "         [0.7460, 0.9357, 0.8925]]),\n",
       " tensor([[0.0000, 0.0553, 0.3140],\n",
       "         [0.7460, 0.9357, 0.8925]]))"
      ]
     },
     "execution_count": 164,
     "metadata": {},
     "output_type": "execute_result"
    }
   ],
   "source": [
    "a[0][0] = 0\n",
    "a, b"
   ]
  },
  {
   "cell_type": "code",
   "execution_count": 166,
   "metadata": {
    "colab": {
     "base_uri": "https://localhost:8080/"
    },
    "id": "2t4ZKI9elNb2",
    "outputId": "61b4b3a9-0d4e-4b39-c35a-9e7d057767a4"
   },
   "outputs": [
    {
     "data": {
      "text/plain": [
       "(139145171801808, 139145171801808)"
      ]
     },
     "execution_count": 166,
     "metadata": {},
     "output_type": "execute_result"
    }
   ],
   "source": [
    "id(a) , id(b)"
   ]
  },
  {
   "cell_type": "code",
   "execution_count": 168,
   "metadata": {
    "colab": {
     "base_uri": "https://localhost:8080/"
    },
    "id": "6QmRxSH2lRlL",
    "outputId": "7b5ea0c3-7ddf-4422-dfc0-7d14bf4f5eea"
   },
   "outputs": [
    {
     "data": {
      "text/plain": [
       "(tensor([[0.0000, 0.0553, 0.3140],\n",
       "         [0.7460, 0.9357, 0.8925]]),\n",
       " tensor([[0.0000, 0.0553, 0.3140],\n",
       "         [0.7460, 0.9357, 0.8925]]))"
      ]
     },
     "execution_count": 168,
     "metadata": {},
     "output_type": "execute_result"
    }
   ],
   "source": [
    "b = a.clone()\n",
    "a,b\n"
   ]
  },
  {
   "cell_type": "code",
   "execution_count": 169,
   "metadata": {
    "colab": {
     "base_uri": "https://localhost:8080/"
    },
    "id": "IOLccoE-lXgy",
    "outputId": "77f6072a-9420-4c1a-9907-2960e7d2ad64"
   },
   "outputs": [
    {
     "data": {
      "text/plain": [
       "(139145171801808, 139145170351120)"
      ]
     },
     "execution_count": 169,
     "metadata": {},
     "output_type": "execute_result"
    }
   ],
   "source": [
    "id(a), id(b)"
   ]
  },
  {
   "cell_type": "code",
   "execution_count": 171,
   "metadata": {
    "colab": {
     "base_uri": "https://localhost:8080/"
    },
    "id": "HhdTRWYllbql",
    "outputId": "a548c5b9-6e50-40ce-ab3c-e7851c2ee570"
   },
   "outputs": [
    {
     "data": {
      "text/plain": [
       "(tensor([[9.0000, 0.0553, 0.3140],\n",
       "         [0.7460, 0.9357, 0.8925]]),\n",
       " tensor([[0.0000, 0.0553, 0.3140],\n",
       "         [0.7460, 0.9357, 0.8925]]))"
      ]
     },
     "execution_count": 171,
     "metadata": {},
     "output_type": "execute_result"
    }
   ],
   "source": [
    "a[0][0] = 9\n",
    "a , b"
   ]
  }
 ],
 "metadata": {
  "colab": {
   "provenance": []
  },
  "kernelspec": {
   "display_name": "Python 3 (ipykernel)",
   "language": "python",
   "name": "python3"
  },
  "language_info": {
   "codemirror_mode": {
    "name": "ipython",
    "version": 3
   },
   "file_extension": ".py",
   "mimetype": "text/x-python",
   "name": "python",
   "nbconvert_exporter": "python",
   "pygments_lexer": "ipython3",
   "version": "3.12.3"
  }
 },
 "nbformat": 4,
 "nbformat_minor": 1
}
