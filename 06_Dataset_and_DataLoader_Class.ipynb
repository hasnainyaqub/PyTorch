{
 "cells": [
  {
   "cell_type": "markdown",
   "id": "52364eb3",
   "metadata": {},
   "source": [
    "# Dataset and DataLoader Class in PyTorch"
   ]
  },
  {
   "cell_type": "code",
   "execution_count": 13,
   "id": "13056b13",
   "metadata": {},
   "outputs": [],
   "source": [
    "from sklearn.datasets import make_classification\n",
    "import torch"
   ]
  },
  {
   "cell_type": "code",
   "execution_count": 14,
   "id": "60107438",
   "metadata": {},
   "outputs": [],
   "source": [
    "# Step 1 create a synthetic classification dataset using scikit-learn\n",
    "X, y = make_classification(\n",
    "    n_samples=10,       # Number of samples\n",
    "    n_features=2,       # Number of features\n",
    "    n_informative=2,    # Number of informative features\n",
    "    n_redundant=0,      # Number of redundant features\n",
    "    n_classes=2,        # Number of classes\n",
    "    random_state=42     # For reproducibility\n",
    ")"
   ]
  },
  {
   "cell_type": "code",
   "execution_count": 15,
   "id": "ab883f9e",
   "metadata": {},
   "outputs": [
    {
     "data": {
      "text/plain": [
       "((10, 2),\n",
       " array([[ 1.06833894, -0.97007347],\n",
       "        [-1.14021544, -0.83879234],\n",
       "        [-2.8953973 ,  1.97686236],\n",
       "        [-0.72063436, -0.96059253],\n",
       "        [-1.96287438, -0.99225135],\n",
       "        [-0.9382051 , -0.54304815],\n",
       "        [ 1.72725924, -1.18582677],\n",
       "        [ 1.77736657,  1.51157598],\n",
       "        [ 1.89969252,  0.83444483],\n",
       "        [-0.58723065, -1.97171753]]))"
      ]
     },
     "execution_count": 15,
     "metadata": {},
     "output_type": "execute_result"
    }
   ],
   "source": [
    "X.shape, X"
   ]
  },
  {
   "cell_type": "code",
   "execution_count": 16,
   "id": "b7949742",
   "metadata": {},
   "outputs": [
    {
     "data": {
      "text/plain": [
       "((10,), array([1, 0, 0, 0, 0, 1, 1, 1, 1, 0]))"
      ]
     },
     "execution_count": 16,
     "metadata": {},
     "output_type": "execute_result"
    }
   ],
   "source": [
    "y.shape, y"
   ]
  },
  {
   "cell_type": "code",
   "execution_count": 17,
   "id": "ece381ed",
   "metadata": {},
   "outputs": [],
   "source": [
    "# Convert the data to PyTorch tensors\n",
    "X = torch.tensor(X, dtype=torch.float32)\n",
    "y = torch.tensor(y, dtype=torch.long)"
   ]
  },
  {
   "cell_type": "code",
   "execution_count": 18,
   "id": "01f8e07c",
   "metadata": {},
   "outputs": [
    {
     "data": {
      "text/plain": [
       "(tensor([[ 1.0683, -0.9701],\n",
       "         [-1.1402, -0.8388],\n",
       "         [-2.8954,  1.9769],\n",
       "         [-0.7206, -0.9606],\n",
       "         [-1.9629, -0.9923],\n",
       "         [-0.9382, -0.5430],\n",
       "         [ 1.7273, -1.1858],\n",
       "         [ 1.7774,  1.5116],\n",
       "         [ 1.8997,  0.8344],\n",
       "         [-0.5872, -1.9717]]),\n",
       " tensor([1, 0, 0, 0, 0, 1, 1, 1, 1, 0]))"
      ]
     },
     "execution_count": 18,
     "metadata": {},
     "output_type": "execute_result"
    }
   ],
   "source": [
    "X, y"
   ]
  },
  {
   "cell_type": "code",
   "execution_count": 28,
   "id": "7f451624",
   "metadata": {},
   "outputs": [],
   "source": [
    "from torch.utils.data import TensorDataset\n",
    "from torch.utils.data import DataLoader"
   ]
  },
  {
   "cell_type": "code",
   "execution_count": 23,
   "id": "8bcf79df",
   "metadata": {},
   "outputs": [],
   "source": [
    "# create a class custom dataset\n",
    "class CustomDataset(TensorDataset):\n",
    "\n",
    "    def __init__(self, features, labels):\n",
    "        self.features = features\n",
    "        self.labels = labels\n",
    "\n",
    "    def __len__(self):\n",
    "        return self.features.shape[0]\n",
    "    \n",
    "    def __getitem__(self, index):\n",
    "        return self.features[index], self.labels[index]"
   ]
  },
  {
   "cell_type": "code",
   "execution_count": 25,
   "id": "330665df",
   "metadata": {},
   "outputs": [],
   "source": [
    "dataset = CustomDataset(X, y)"
   ]
  },
  {
   "cell_type": "code",
   "execution_count": 26,
   "id": "60294c36",
   "metadata": {},
   "outputs": [
    {
     "data": {
      "text/plain": [
       "10"
      ]
     },
     "execution_count": 26,
     "metadata": {},
     "output_type": "execute_result"
    }
   ],
   "source": [
    "len(dataset)"
   ]
  },
  {
   "cell_type": "code",
   "execution_count": 27,
   "id": "58414dee",
   "metadata": {},
   "outputs": [
    {
     "data": {
      "text/plain": [
       "(tensor([-2.8954,  1.9769]), tensor(0))"
      ]
     },
     "execution_count": 27,
     "metadata": {},
     "output_type": "execute_result"
    }
   ],
   "source": [
    "dataset[2]"
   ]
  },
  {
   "cell_type": "code",
   "execution_count": 37,
   "id": "fe9f1127",
   "metadata": {},
   "outputs": [],
   "source": [
    "dataloader = DataLoader(dataset, batch_size=2, shuffle=False)"
   ]
  },
  {
   "cell_type": "code",
   "execution_count": 49,
   "id": "9e65d86c",
   "metadata": {},
   "outputs": [
    {
     "name": "stdout",
     "output_type": "stream",
     "text": [
      "Features: tensor([[ 1.0683, -0.9701],\n",
      "        [-1.1402, -0.8388]])\n",
      "Labels: tensor([1, 0])\n",
      "--------------------------------------------------\n",
      "Features: tensor([[-2.8954,  1.9769],\n",
      "        [-0.7206, -0.9606]])\n",
      "Labels: tensor([0, 0])\n",
      "--------------------------------------------------\n",
      "Features: tensor([[-1.9629, -0.9923],\n",
      "        [-0.9382, -0.5430]])\n",
      "Labels: tensor([0, 1])\n",
      "--------------------------------------------------\n",
      "Features: tensor([[ 1.7273, -1.1858],\n",
      "        [ 1.7774,  1.5116]])\n",
      "Labels: tensor([1, 1])\n",
      "--------------------------------------------------\n",
      "Features: tensor([[ 1.8997,  0.8344],\n",
      "        [-0.5872, -1.9717]])\n",
      "Labels: tensor([1, 0])\n",
      "--------------------------------------------------\n"
     ]
    }
   ],
   "source": [
    "for batch_features, batch_labels in dataloader:\n",
    "    print(f'Features: {batch_features}')\n",
    "    print(f'Labels: {batch_labels}')\n",
    "    print('-'*50)"
   ]
  }
 ],
 "metadata": {
  "kernelspec": {
   "display_name": "tf_env",
   "language": "python",
   "name": "python3"
  },
  "language_info": {
   "codemirror_mode": {
    "name": "ipython",
    "version": 3
   },
   "file_extension": ".py",
   "mimetype": "text/x-python",
   "name": "python",
   "nbconvert_exporter": "python",
   "pygments_lexer": "ipython3",
   "version": "3.10.18"
  }
 },
 "nbformat": 4,
 "nbformat_minor": 5
}
